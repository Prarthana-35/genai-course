{
 "cells": [
  {
   "cell_type": "code",
   "execution_count": 1,
   "metadata": {
    "_cell_guid": "b1076dfc-b9ad-4769-8c92-a6c4dae69d19",
    "_uuid": "8f2839f25d086af736a60e9eeb907d3b93b6e0e5",
    "execution": {
     "iopub.execute_input": "2025-04-04T17:31:53.761016Z",
     "iopub.status.busy": "2025-04-04T17:31:53.760644Z",
     "iopub.status.idle": "2025-04-04T17:32:02.867220Z",
     "shell.execute_reply": "2025-04-04T17:32:02.865871Z",
     "shell.execute_reply.started": "2025-04-04T17:31:53.760973Z"
    },
    "trusted": true
   },
   "outputs": [
    {
     "name": "stdout",
     "output_type": "stream",
     "text": [
      "\u001b[2K   \u001b[90m━━━━━━━━━━━━━━━━━━━━━━━━━━━━━━━━━━━━━━━━\u001b[0m \u001b[32m144.7/144.7 kB\u001b[0m \u001b[31m4.8 MB/s\u001b[0m eta \u001b[36m0:00:00\u001b[0m\n",
      "\u001b[2K   \u001b[90m━━━━━━━━━━━━━━━━━━━━━━━━━━━━━━━━━━━━━━━━\u001b[0m \u001b[32m100.9/100.9 kB\u001b[0m \u001b[31m4.8 MB/s\u001b[0m eta \u001b[36m0:00:00\u001b[0m\n",
      "\u001b[?25h"
     ]
    }
   ],
   "source": [
    "!pip uninstall -qqy jupyterlab  \n",
    "!pip install -U -q \"google-genai==1.7.0\""
   ]
  },
  {
   "cell_type": "code",
   "execution_count": 2,
   "metadata": {
    "execution": {
     "iopub.execute_input": "2025-04-04T17:32:05.922507Z",
     "iopub.status.busy": "2025-04-04T17:32:05.922177Z",
     "iopub.status.idle": "2025-04-04T17:32:07.499212Z",
     "shell.execute_reply": "2025-04-04T17:32:07.498132Z",
     "shell.execute_reply.started": "2025-04-04T17:32:05.922479Z"
    },
    "trusted": true
   },
   "outputs": [
    {
     "data": {
      "text/plain": [
       "'1.7.0'"
      ]
     },
     "execution_count": 2,
     "metadata": {},
     "output_type": "execute_result"
    }
   ],
   "source": [
    "from google import genai\n",
    "from google.genai import types\n",
    "\n",
    "genai.__version__"
   ]
  },
  {
   "cell_type": "code",
   "execution_count": 3,
   "metadata": {
    "execution": {
     "iopub.execute_input": "2025-04-04T17:32:48.583897Z",
     "iopub.status.busy": "2025-04-04T17:32:48.583298Z",
     "iopub.status.idle": "2025-04-04T17:32:49.199290Z",
     "shell.execute_reply": "2025-04-04T17:32:49.198068Z",
     "shell.execute_reply.started": "2025-04-04T17:32:48.583857Z"
    },
    "trusted": true
   },
   "outputs": [],
   "source": [
    "from kaggle_secrets import UserSecretsClient\n",
    "\n",
    "GOOGLE_API_KEY = UserSecretsClient().get_secret(\"GOOGLE_API_KEY\")\n",
    "\n",
    "client = genai.Client(api_key=GOOGLE_API_KEY)"
   ]
  },
  {
   "cell_type": "code",
   "execution_count": 4,
   "metadata": {
    "execution": {
     "iopub.execute_input": "2025-04-04T17:33:05.845175Z",
     "iopub.status.busy": "2025-04-04T17:33:05.844729Z",
     "iopub.status.idle": "2025-04-04T17:33:05.957901Z",
     "shell.execute_reply": "2025-04-04T17:33:05.956721Z",
     "shell.execute_reply.started": "2025-04-04T17:33:05.845144Z"
    },
    "trusted": true
   },
   "outputs": [
    {
     "name": "stdout",
     "output_type": "stream",
     "text": [
      "models/gemini-1.5-flash-001-tuning\n",
      "models/gemini-1.5-flash-001-tuning\n"
     ]
    }
   ],
   "source": [
    "for model in client.models.list():\n",
    "    if \"createTunedModel\" in model.supported_actions:\n",
    "        print(model.name)\n",
    "for model in client.models.list():\n",
    "    if \"createTunedModel\" in model.supported_actions:\n",
    "        print(model.name)"
   ]
  },
  {
   "cell_type": "code",
   "execution_count": 7,
   "metadata": {
    "execution": {
     "iopub.execute_input": "2025-04-04T17:34:41.734142Z",
     "iopub.status.busy": "2025-04-04T17:34:41.733808Z",
     "iopub.status.idle": "2025-04-04T17:34:42.373679Z",
     "shell.execute_reply": "2025-04-04T17:34:42.372394Z",
     "shell.execute_reply.started": "2025-04-04T17:34:41.734116Z"
    },
    "trusted": true
   },
   "outputs": [
    {
     "name": "stdout",
     "output_type": "stream",
     "text": [
      "['alt.atheism', 'comp.graphics', 'comp.os.ms-windows.misc', 'comp.sys.ibm.pc.hardware', 'comp.sys.mac.hardware', 'comp.windows.x', 'misc.forsale', 'rec.autos', 'rec.motorcycles', 'rec.sport.baseball', 'rec.sport.hockey', 'sci.crypt', 'sci.electronics', 'sci.med', 'sci.space', 'soc.religion.christian', 'talk.politics.guns', 'talk.politics.mideast', 'talk.politics.misc', 'talk.religion.misc']\n",
      "From: lerxst@wam.umd.edu (where's my thing)\n",
      "Subject: WHAT car is this!?\n",
      "Nntp-Posting-Host: rac3.wam.umd.edu\n",
      "Organization: University of Maryland, College Park\n",
      "Lines: 15\n",
      "\n",
      " I was wondering if anyone out there could enlighten me on this car I saw\n",
      "the other day. It was a 2-door sports car, looked to be from the late 60s/\n",
      "early 70s. It was called a Bricklin. The doors were really small. In addition,\n",
      "the front bumper was separate from the rest of the body. This is \n",
      "all I know. If anyone can tellme a model name, engine specs, years\n",
      "of production, where this car is made, history, or whatever info you\n",
      "have on this funky looking car, please e-mail.\n",
      "\n",
      "Thanks,\n",
      "- IL\n",
      "   ---- brought to you by your neighborhood Lerxst ----\n",
      "\n",
      "\n",
      "\n",
      "\n",
      "\n"
     ]
    }
   ],
   "source": [
    "from sklearn.datasets import fetch_20newsgroups\n",
    "\n",
    "newsgroups_train = fetch_20newsgroups(subset=\"train\")\n",
    "newsgroups_test = fetch_20newsgroups(subset=\"test\")\n",
    "\n",
    "print(newsgroups_train.target_names)\n",
    "print(newsgroups_train.data[0])"
   ]
  },
  {
   "cell_type": "code",
   "execution_count": 9,
   "metadata": {
    "execution": {
     "iopub.execute_input": "2025-04-04T17:37:44.563520Z",
     "iopub.status.busy": "2025-04-04T17:37:44.562899Z",
     "iopub.status.idle": "2025-04-04T17:37:48.246712Z",
     "shell.execute_reply": "2025-04-04T17:37:48.245681Z",
     "shell.execute_reply.started": "2025-04-04T17:37:44.563483Z"
    },
    "trusted": true
   },
   "outputs": [
    {
     "data": {
      "text/html": [
       "<div>\n",
       "<style scoped>\n",
       "    .dataframe tbody tr th:only-of-type {\n",
       "        vertical-align: middle;\n",
       "    }\n",
       "\n",
       "    .dataframe tbody tr th {\n",
       "        vertical-align: top;\n",
       "    }\n",
       "\n",
       "    .dataframe thead th {\n",
       "        text-align: right;\n",
       "    }\n",
       "</style>\n",
       "<table border=\"1\" class=\"dataframe\">\n",
       "  <thead>\n",
       "    <tr style=\"text-align: right;\">\n",
       "      <th></th>\n",
       "      <th>Text</th>\n",
       "      <th>Label</th>\n",
       "      <th>Class Name</th>\n",
       "    </tr>\n",
       "  </thead>\n",
       "  <tbody>\n",
       "    <tr>\n",
       "      <th>0</th>\n",
       "      <td>WHAT car is this!?\\n\\n I was wondering if anyo...</td>\n",
       "      <td>7</td>\n",
       "      <td>rec.autos</td>\n",
       "    </tr>\n",
       "    <tr>\n",
       "      <th>1</th>\n",
       "      <td>SI Clock Poll - Final Call\\n\\nA fair number of...</td>\n",
       "      <td>4</td>\n",
       "      <td>comp.sys.mac.hardware</td>\n",
       "    </tr>\n",
       "    <tr>\n",
       "      <th>2</th>\n",
       "      <td>PB questions...\\n\\nwell folks, my mac plus fin...</td>\n",
       "      <td>4</td>\n",
       "      <td>comp.sys.mac.hardware</td>\n",
       "    </tr>\n",
       "    <tr>\n",
       "      <th>3</th>\n",
       "      <td>Re: Weitek P9000 ?\\n\\nRobert J.C. Kyanko () wr...</td>\n",
       "      <td>1</td>\n",
       "      <td>comp.graphics</td>\n",
       "    </tr>\n",
       "    <tr>\n",
       "      <th>4</th>\n",
       "      <td>Re: Shuttle Launch Question\\n\\nFrom article &lt;&gt;...</td>\n",
       "      <td>14</td>\n",
       "      <td>sci.space</td>\n",
       "    </tr>\n",
       "  </tbody>\n",
       "</table>\n",
       "</div>"
      ],
      "text/plain": [
       "                                                Text  Label  \\\n",
       "0  WHAT car is this!?\\n\\n I was wondering if anyo...      7   \n",
       "1  SI Clock Poll - Final Call\\n\\nA fair number of...      4   \n",
       "2  PB questions...\\n\\nwell folks, my mac plus fin...      4   \n",
       "3  Re: Weitek P9000 ?\\n\\nRobert J.C. Kyanko () wr...      1   \n",
       "4  Re: Shuttle Launch Question\\n\\nFrom article <>...     14   \n",
       "\n",
       "              Class Name  \n",
       "0              rec.autos  \n",
       "1  comp.sys.mac.hardware  \n",
       "2  comp.sys.mac.hardware  \n",
       "3          comp.graphics  \n",
       "4              sci.space  "
      ]
     },
     "execution_count": 9,
     "metadata": {},
     "output_type": "execute_result"
    }
   ],
   "source": [
    "import email\n",
    "import re\n",
    "import pandas as pd\n",
    "def preprocess_newsgroup_row(data):\n",
    "    msg = email.message_from_string(data)\n",
    "    text = f\"{msg['Subject']}\\n\\n{msg.get_payload()}\"\n",
    "    text = re.sub(r\"[\\w\\.-]+@[\\w\\.-]+\", \"\", text)\n",
    "    text = text[:40000]\n",
    "    return text\n",
    "def preprocess_newsgroup_data(newsgroup_dataset):\n",
    "    df = pd.DataFrame(\n",
    "        {\"Text\": newsgroup_dataset.data, \"Label\": newsgroup_dataset.target}\n",
    "    )\n",
    "    df[\"Text\"] = df[\"Text\"].apply(preprocess_newsgroup_row)\n",
    "    df[\"Class Name\"] = df[\"Label\"].map(lambda l: newsgroup_dataset.target_names[l])\n",
    "    return df\n",
    "df_train = preprocess_newsgroup_data(newsgroups_train)\n",
    "df_test = preprocess_newsgroup_data(newsgroups_test)\n",
    "df_train.head()"
   ]
  },
  {
   "cell_type": "code",
   "execution_count": 13,
   "metadata": {
    "execution": {
     "iopub.execute_input": "2025-04-04T17:39:27.704556Z",
     "iopub.status.busy": "2025-04-04T17:39:27.704210Z",
     "iopub.status.idle": "2025-04-04T17:39:27.729399Z",
     "shell.execute_reply": "2025-04-04T17:39:27.728147Z",
     "shell.execute_reply.started": "2025-04-04T17:39:27.704521Z"
    },
    "trusted": true
   },
   "outputs": [],
   "source": [
    "def sample_data(df, num_samples, classes_to_keep):\n",
    "    df = (\n",
    "        df.groupby(\"Label\")[df.columns]\n",
    "        .apply(lambda x: x.sample(num_samples))\n",
    "        .reset_index(drop=True)\n",
    "    )\n",
    "    df = df[df[\"Class Name\"].str.contains(classes_to_keep)]\n",
    "    df[\"Class Name\"] = df[\"Class Name\"].astype(\"category\")\n",
    "    return df\n",
    "TRAIN_NUM_SAMPLES = 50\n",
    "TEST_NUM_SAMPLES = 10\n",
    "CLASSES_TO_KEEP = \"^rec|^sci\"\n",
    "df_train = sample_data(df_train, TRAIN_NUM_SAMPLES, CLASSES_TO_KEEP)\n",
    "df_test = sample_data(df_test, TEST_NUM_SAMPLES, CLASSES_TO_KEEP)"
   ]
  },
  {
   "cell_type": "code",
   "execution_count": 14,
   "metadata": {
    "execution": {
     "iopub.execute_input": "2025-04-04T17:40:19.900768Z",
     "iopub.status.busy": "2025-04-04T17:40:19.900376Z",
     "iopub.status.idle": "2025-04-04T17:40:19.908891Z",
     "shell.execute_reply": "2025-04-04T17:40:19.907315Z",
     "shell.execute_reply.started": "2025-04-04T17:40:19.900727Z"
    },
    "trusted": true
   },
   "outputs": [
    {
     "name": "stdout",
     "output_type": "stream",
     "text": [
      "Need info on 88-89 Bonneville\n",
      "\n",
      "\n",
      " I am a little confused on all of the models of the 88-89 bonnevilles.\n",
      "I have heard of the LE SE LSE SSE SSEI. Could someone tell me the\n",
      "differences are far as features or performance. I am also curious to\n",
      "know what the book value is for prefereably the 89 model. And how much\n",
      "less than book value can you usually get them for. In other words how\n",
      "much are they in demand this time of year. I have heard that the mid-spring\n",
      "early summer is the best time to buy.\n",
      "\n",
      "\t\t\tNeil Gandler\n",
      "\n",
      "---\n",
      "Label: rec.autos\n"
     ]
    }
   ],
   "source": [
    "#Evaluate baseline performance¶\n",
    "sample_idx = 0\n",
    "sample_row = preprocess_newsgroup_row(newsgroups_test.data[sample_idx])\n",
    "sample_label = newsgroups_test.target_names[newsgroups_test.target[sample_idx]]\n",
    "print(sample_row)\n",
    "print('---')\n",
    "print('Label:', sample_label)"
   ]
  },
  {
   "cell_type": "code",
   "execution_count": 15,
   "metadata": {
    "execution": {
     "iopub.execute_input": "2025-04-04T17:40:47.548913Z",
     "iopub.status.busy": "2025-04-04T17:40:47.548507Z",
     "iopub.status.idle": "2025-04-04T17:40:51.134567Z",
     "shell.execute_reply": "2025-04-04T17:40:51.133174Z",
     "shell.execute_reply.started": "2025-04-04T17:40:47.548882Z"
    },
    "trusted": true
   },
   "outputs": [
    {
     "name": "stdout",
     "output_type": "stream",
     "text": [
      "You're right, the 1988-89 Bonneville trim levels can be confusing! Here's a breakdown and some information on their value:\n",
      "\n",
      "**1988-1989 Bonneville Trim Levels**\n",
      "\n",
      "* **LE (Luxury Edition):**  The base model, featuring standard amenities like air conditioning, power steering, and power brakes. It usually came with a 3.8L V6 engine.\n",
      "* **SE (Special Edition):**  This model included upgraded features like a more luxurious interior, additional sound insulation, and a more powerful 3.8L V6 engine with a higher horsepower rating.\n",
      "* **LSE (Luxury Special Edition):**  This trim level combined the features of the LE and SE, offering a more upscale interior and a more powerful engine. \n",
      "* **SSE (Sport Sedan Edition):**  The SSE was a sportier version with a unique grille, body-colored bumpers, and a more powerful 3.8L V6 engine.\n",
      "* **SSEi (Sport Sedan Edition - Injection):**  The SSEi was the top-of-the-line model and came with a fuel-injected 3.8L V6 engine for increased power and performance. It also had a more sporty suspension and optional features like a sunroof and leather seats.\n",
      "\n",
      "**Value and Demand**\n",
      "\n",
      "* **Book Value:**  Unfortunately, providing an exact book value for a 1989 Bonneville is difficult without knowing the specific trim level, mileage, condition, and location.  You can use online resources like Kelley Blue Book or Edmunds to get a general idea of value.\n",
      "* **Negotiation:**  Cars of this age are generally in lower demand, which means you might be able to negotiate a price significantly lower than book value.  You might be able to get 20-40% below book value, depending on the condition of the car.\n",
      "* **Spring/Summer:**  You're right, spring and early summer are often considered good times to buy used cars.  Dealerships are trying to clear out older inventory to make room for new models.\n",
      "\n",
      "**Additional Considerations:**\n",
      "\n",
      "* **Condition is Key:**  The condition of the car is the biggest factor determining its value. Look for a car that has been well-maintained and has no major mechanical issues.\n",
      "* **Check for Rust:**  Bonnevilles from this era can be prone to rust, especially in areas with harsh climates. Inspect the body thoroughly.\n",
      "* **Test Drive:**  Take the car for a test drive to get a feel for how it runs and handles.\n",
      "* **Research Common Problems:**  Familiarize yourself with common issues for this model year so you can ask the seller about them. \n",
      "\n",
      "**Before you buy:**\n",
      "\n",
      "* **Have a pre-purchase inspection done:** Get the car checked by a trusted mechanic to identify any potential problems.\n",
      "* **Get a Carfax report:**  This will give you a history of the car, including any accidents or major repairs.\n",
      "\n",
      "Good luck with your search for a 1989 Bonneville! \n",
      "\n"
     ]
    }
   ],
   "source": [
    "response = client.models.generate_content(\n",
    "    model=\"gemini-1.5-flash-001\", contents=sample_row)\n",
    "print(response.text)"
   ]
  },
  {
   "cell_type": "code",
   "execution_count": 16,
   "metadata": {
    "execution": {
     "iopub.execute_input": "2025-04-04T17:42:05.492268Z",
     "iopub.status.busy": "2025-04-04T17:42:05.491887Z",
     "iopub.status.idle": "2025-04-04T17:42:06.918067Z",
     "shell.execute_reply": "2025-04-04T17:42:06.916733Z",
     "shell.execute_reply.started": "2025-04-04T17:42:05.492237Z"
    },
    "trusted": true
   },
   "outputs": [
    {
     "name": "stdout",
     "output_type": "stream",
     "text": [
      "The message most likely originates from a **Buick-specific newsgroup**, potentially one focused on the Bonneville or even the 1988-1989 model years.\n",
      "\n",
      "Here's why:\n",
      "\n",
      "* **Specific Model Focus:** The message centers around the Bonneville, a Buick model, and its various trim levels. This strongly suggests a Buick-centric discussion space.\n",
      "* **Trim Level Questions:** The user inquires about various trim levels (LE, SE, LSE, SSE, SSEi) common to Buick models. This detail further reinforces the Buick context. \n",
      "* **Value and Market Information:** The message asks about book value and negotiation tactics specific to the 1989 Bonneville, suggesting an interest in buying and selling within a community familiar with this model.\n",
      "\n",
      "While it's impossible to pinpoint the exact newsgroup without more information, the clues point to a Buick-specific forum or newsgroup.\n",
      "\n"
     ]
    }
   ],
   "source": [
    "prompt = \"From what newsgroup does the following message originate?\"\n",
    "baseline_response = client.models.generate_content(\n",
    "    model=\"gemini-1.5-flash-001\",\n",
    "    contents=[prompt, sample_row])\n",
    "print(baseline_response.text)"
   ]
  },
  {
   "cell_type": "code",
   "execution_count": null,
   "metadata": {
    "trusted": true
   },
   "outputs": [],
   "source": [
    "from google.api_core import retry\n",
    "\n",
    "system_instruct = \"\"\"\n",
    "You are a classification service. You will be passed input that represents\n",
    "a newsgroup post and you must respond with the newsgroup from which the post\n",
    "originates.\n",
    "\"\"\"\n",
    "\n",
    "# a helper to retry when per-minute quota is reached.\n",
    "is_retriable = lambda e: (isinstance(e, genai.errors.APIError) and e.code in {429, 503})\n",
    "\n",
    "# If you want to evaluate your own technique, replace this body of this function\n",
    "# with your model, prompt and other code and return the predicted answer.\n",
    "@retry.Retry(predicate=is_retriable)\n",
    "def predict_label(post: str) -> str:\n",
    "    response = client.models.generate_content(\n",
    "        model=\"gemini-1.5-flash-001\",\n",
    "        config=types.GenerateContentConfig(\n",
    "            system_instruction=system_instruct),\n",
    "        contents=post)\n",
    "\n",
    "    rc = response.candidates[0]\n",
    "\n",
    "    # Any errors, filters, recitation, etc we can mark as a general error\n",
    "    if rc.finish_reason.name != \"STOP\":\n",
    "        return \"(error)\"\n",
    "    else:\n",
    "        return response.text.strip()\n",
    "        \n",
    "prediction = predict_label(sample_row)\n",
    "\n",
    "print(prediction)\n",
    "print()\n",
    "print(\"Correct!\" if prediction == sample_label else \"Incorrect.\")"
   ]
  },
  {
   "cell_type": "code",
   "execution_count": 26,
   "metadata": {
    "execution": {
     "iopub.execute_input": "2025-04-04T17:59:19.758748Z",
     "iopub.status.busy": "2025-04-04T17:59:19.758306Z",
     "iopub.status.idle": "2025-04-04T17:59:19.924132Z",
     "shell.execute_reply": "2025-04-04T17:59:19.922687Z",
     "shell.execute_reply.started": "2025-04-04T17:59:19.758714Z"
    },
    "trusted": true
   },
   "outputs": [
    {
     "name": "stdout",
     "output_type": "stream",
     "text": [
      "Accuracy: 81.25%\n"
     ]
    }
   ],
   "source": [
    "from sklearn.feature_extraction.text import TfidfVectorizer\n",
    "from sklearn.naive_bayes import MultinomialNB\n",
    "\n",
    "vectorizer = TfidfVectorizer()\n",
    "X_train = vectorizer.fit_transform(df_train[\"Text\"])\n",
    "y_train = df_train[\"Class Name\"]\n",
    "\n",
    "clf = MultinomialNB()\n",
    "clf.fit(X_train, y_train)\n",
    "\n",
    "X_test = vectorizer.transform(df_test[\"Text\"])\n",
    "df_test[\"Prediction\"] = clf.predict(X_test)\n",
    "\n",
    "accuracy = (df_test[\"Class Name\"] == df_test[\"Prediction\"]).mean()\n",
    "print(f\"Accuracy: {accuracy:.2%}\")"
   ]
  },
  {
   "cell_type": "code",
   "execution_count": 46,
   "metadata": {
    "execution": {
     "iopub.execute_input": "2025-04-04T18:30:21.161836Z",
     "iopub.status.busy": "2025-04-04T18:30:21.161308Z",
     "iopub.status.idle": "2025-04-04T18:30:21.981588Z",
     "shell.execute_reply": "2025-04-04T18:30:21.980570Z",
     "shell.execute_reply.started": "2025-04-04T18:30:21.161793Z"
    },
    "trusted": true
   },
   "outputs": [
    {
     "name": "stdout",
     "output_type": "stream",
     "text": [
      "TF-IDF Accuracy: 78.75%\n"
     ]
    }
   ],
   "source": [
    "from sklearn.feature_extraction.text import TfidfVectorizer\n",
    "from sklearn.ensemble import RandomForestClassifier\n",
    "\n",
    "#Text vectorization\n",
    "vectorizer = TfidfVectorizer()\n",
    "X_train = vectorizer.fit_transform(df_train[\"Text\"])\n",
    "X_test = vectorizer.transform(df_test[\"Text\"])\n",
    "\n",
    "clf = RandomForestClassifier()\n",
    "clf.fit(X_train, df_train[\"Class Name\"])\n",
    "\n",
    "df_test[\"Prediction\"] = clf.predict(X_test)\n",
    "accuracy = (df_test[\"Class Name\"] == df_test[\"Prediction\"]).mean()\n",
    "print(f\"TF-IDF Accuracy: {accuracy:.2%}\")\n"
   ]
  },
  {
   "cell_type": "code",
   "execution_count": 47,
   "metadata": {
    "execution": {
     "iopub.execute_input": "2025-04-04T18:31:48.224001Z",
     "iopub.status.busy": "2025-04-04T18:31:48.223568Z",
     "iopub.status.idle": "2025-04-04T18:31:48.237414Z",
     "shell.execute_reply": "2025-04-04T18:31:48.236176Z",
     "shell.execute_reply.started": "2025-04-04T18:31:48.223968Z"
    },
    "trusted": true
   },
   "outputs": [
    {
     "data": {
      "text/html": [
       "<div>\n",
       "<style scoped>\n",
       "    .dataframe tbody tr th:only-of-type {\n",
       "        vertical-align: middle;\n",
       "    }\n",
       "\n",
       "    .dataframe tbody tr th {\n",
       "        vertical-align: top;\n",
       "    }\n",
       "\n",
       "    .dataframe thead th {\n",
       "        text-align: right;\n",
       "    }\n",
       "</style>\n",
       "<table border=\"1\" class=\"dataframe\">\n",
       "  <thead>\n",
       "    <tr style=\"text-align: right;\">\n",
       "      <th></th>\n",
       "      <th>Text</th>\n",
       "      <th>Label</th>\n",
       "      <th>Class Name</th>\n",
       "      <th>Prediction</th>\n",
       "      <th>labels</th>\n",
       "    </tr>\n",
       "  </thead>\n",
       "  <tbody>\n",
       "    <tr>\n",
       "      <th>0</th>\n",
       "      <td>Re: Lexus and Infiniti\\n\\nIn article &lt;&gt;  (Issa...</td>\n",
       "      <td>7</td>\n",
       "      <td>rec.autos</td>\n",
       "      <td>rec.autos</td>\n",
       "      <td>0</td>\n",
       "    </tr>\n",
       "    <tr>\n",
       "      <th>1</th>\n",
       "      <td>Re: Is car saftey important?\\n\\nIn article &lt;&gt; ...</td>\n",
       "      <td>7</td>\n",
       "      <td>rec.autos</td>\n",
       "      <td>rec.autos</td>\n",
       "      <td>0</td>\n",
       "    </tr>\n",
       "    <tr>\n",
       "      <th>2</th>\n",
       "      <td>Re: Back Breaker, Near Hit!! \\n\\nIn article &lt;1...</td>\n",
       "      <td>8</td>\n",
       "      <td>rec.motorcycles</td>\n",
       "      <td>rec.autos</td>\n",
       "      <td>1</td>\n",
       "    </tr>\n",
       "    <tr>\n",
       "      <th>3</th>\n",
       "      <td>Re: Need advice for riding with someone on pil...</td>\n",
       "      <td>8</td>\n",
       "      <td>rec.motorcycles</td>\n",
       "      <td>rec.motorcycles</td>\n",
       "      <td>1</td>\n",
       "    </tr>\n",
       "    <tr>\n",
       "      <th>4</th>\n",
       "      <td>Re: Ottawa Lynx info wanted\\n\\n (CCHB) writes:...</td>\n",
       "      <td>9</td>\n",
       "      <td>rec.sport.baseball</td>\n",
       "      <td>rec.sport.baseball</td>\n",
       "      <td>2</td>\n",
       "    </tr>\n",
       "    <tr>\n",
       "      <th>5</th>\n",
       "      <td>Re: Braves Update!!\\n\\nIn &lt;&gt;  (Randy Palermo) ...</td>\n",
       "      <td>9</td>\n",
       "      <td>rec.sport.baseball</td>\n",
       "      <td>rec.sport.baseball</td>\n",
       "      <td>2</td>\n",
       "    </tr>\n",
       "    <tr>\n",
       "      <th>6</th>\n",
       "      <td>Some Play-offs Thoughts\\n\\n\\nWell, we're almos...</td>\n",
       "      <td>10</td>\n",
       "      <td>rec.sport.hockey</td>\n",
       "      <td>rec.sport.hockey</td>\n",
       "      <td>3</td>\n",
       "    </tr>\n",
       "    <tr>\n",
       "      <th>7</th>\n",
       "      <td>Re: Wings News and Playoff Thoughts\\n\\nIn arti...</td>\n",
       "      <td>10</td>\n",
       "      <td>rec.sport.hockey</td>\n",
       "      <td>rec.autos</td>\n",
       "      <td>3</td>\n",
       "    </tr>\n",
       "    <tr>\n",
       "      <th>8</th>\n",
       "      <td>Re: Let's build software cryptophones for over...</td>\n",
       "      <td>11</td>\n",
       "      <td>sci.crypt</td>\n",
       "      <td>rec.autos</td>\n",
       "      <td>4</td>\n",
       "    </tr>\n",
       "    <tr>\n",
       "      <th>9</th>\n",
       "      <td>Re: Clipper Crap\\n\\n (Karl Kluge) writes:\\n\\n&gt;...</td>\n",
       "      <td>11</td>\n",
       "      <td>sci.crypt</td>\n",
       "      <td>sci.crypt</td>\n",
       "      <td>4</td>\n",
       "    </tr>\n",
       "    <tr>\n",
       "      <th>10</th>\n",
       "      <td>Re: Lead Acid batteries &amp; Concrete?\\n\\nIn arti...</td>\n",
       "      <td>12</td>\n",
       "      <td>sci.electronics</td>\n",
       "      <td>rec.autos</td>\n",
       "      <td>5</td>\n",
       "    </tr>\n",
       "    <tr>\n",
       "      <th>11</th>\n",
       "      <td>Re: How do you build neural networks?\\n\\n (Mat...</td>\n",
       "      <td>12</td>\n",
       "      <td>sci.electronics</td>\n",
       "      <td>sci.electronics</td>\n",
       "      <td>5</td>\n",
       "    </tr>\n",
       "    <tr>\n",
       "      <th>12</th>\n",
       "      <td>Hives\\n\\n\\nMy wife had hives during the first ...</td>\n",
       "      <td>13</td>\n",
       "      <td>sci.med</td>\n",
       "      <td>sci.med</td>\n",
       "      <td>6</td>\n",
       "    </tr>\n",
       "    <tr>\n",
       "      <th>13</th>\n",
       "      <td>ECG data needed\\n\\nI need some ECG data , unco...</td>\n",
       "      <td>13</td>\n",
       "      <td>sci.med</td>\n",
       "      <td>rec.autos</td>\n",
       "      <td>6</td>\n",
       "    </tr>\n",
       "    <tr>\n",
       "      <th>14</th>\n",
       "      <td>Re: HST Servicing Mission Scheduled for 11 Day...</td>\n",
       "      <td>14</td>\n",
       "      <td>sci.space</td>\n",
       "      <td>sci.space</td>\n",
       "      <td>7</td>\n",
       "    </tr>\n",
       "    <tr>\n",
       "      <th>15</th>\n",
       "      <td>Re: Galileo Update - 04/29/93\\n\\nIn article &lt;&gt;...</td>\n",
       "      <td>14</td>\n",
       "      <td>sci.space</td>\n",
       "      <td>rec.autos</td>\n",
       "      <td>7</td>\n",
       "    </tr>\n",
       "  </tbody>\n",
       "</table>\n",
       "</div>"
      ],
      "text/plain": [
       "                                                 Text  Label  \\\n",
       "0   Re: Lexus and Infiniti\\n\\nIn article <>  (Issa...      7   \n",
       "1   Re: Is car saftey important?\\n\\nIn article <> ...      7   \n",
       "2   Re: Back Breaker, Near Hit!! \\n\\nIn article <1...      8   \n",
       "3   Re: Need advice for riding with someone on pil...      8   \n",
       "4   Re: Ottawa Lynx info wanted\\n\\n (CCHB) writes:...      9   \n",
       "5   Re: Braves Update!!\\n\\nIn <>  (Randy Palermo) ...      9   \n",
       "6   Some Play-offs Thoughts\\n\\n\\nWell, we're almos...     10   \n",
       "7   Re: Wings News and Playoff Thoughts\\n\\nIn arti...     10   \n",
       "8   Re: Let's build software cryptophones for over...     11   \n",
       "9   Re: Clipper Crap\\n\\n (Karl Kluge) writes:\\n\\n>...     11   \n",
       "10  Re: Lead Acid batteries & Concrete?\\n\\nIn arti...     12   \n",
       "11  Re: How do you build neural networks?\\n\\n (Mat...     12   \n",
       "12  Hives\\n\\n\\nMy wife had hives during the first ...     13   \n",
       "13  ECG data needed\\n\\nI need some ECG data , unco...     13   \n",
       "14  Re: HST Servicing Mission Scheduled for 11 Day...     14   \n",
       "15  Re: Galileo Update - 04/29/93\\n\\nIn article <>...     14   \n",
       "\n",
       "            Class Name          Prediction  labels  \n",
       "0            rec.autos           rec.autos       0  \n",
       "1            rec.autos           rec.autos       0  \n",
       "2      rec.motorcycles           rec.autos       1  \n",
       "3      rec.motorcycles     rec.motorcycles       1  \n",
       "4   rec.sport.baseball  rec.sport.baseball       2  \n",
       "5   rec.sport.baseball  rec.sport.baseball       2  \n",
       "6     rec.sport.hockey    rec.sport.hockey       3  \n",
       "7     rec.sport.hockey           rec.autos       3  \n",
       "8            sci.crypt           rec.autos       4  \n",
       "9            sci.crypt           sci.crypt       4  \n",
       "10     sci.electronics           rec.autos       5  \n",
       "11     sci.electronics     sci.electronics       5  \n",
       "12             sci.med             sci.med       6  \n",
       "13             sci.med           rec.autos       6  \n",
       "14           sci.space           sci.space       7  \n",
       "15           sci.space           rec.autos       7  "
      ]
     },
     "execution_count": 47,
     "metadata": {},
     "output_type": "execute_result"
    }
   ],
   "source": [
    "df_baseline_eval"
   ]
  },
  {
   "cell_type": "code",
   "execution_count": 48,
   "metadata": {
    "execution": {
     "iopub.execute_input": "2025-04-04T18:35:17.936115Z",
     "iopub.status.busy": "2025-04-04T18:35:17.935776Z",
     "iopub.status.idle": "2025-04-04T18:35:27.864566Z",
     "shell.execute_reply": "2025-04-04T18:35:27.863309Z",
     "shell.execute_reply.started": "2025-04-04T18:35:17.936090Z"
    },
    "trusted": true
   },
   "outputs": [
    {
     "name": "stderr",
     "output_type": "stream",
     "text": [
      "<ipython-input-48-3f54e37193ba>:32: ExperimentalWarning: The SDK's tuning implementation is experimental, and may change in future versions.\n",
      "  tuning_op = client.tunings.tune(\n"
     ]
    },
    {
     "name": "stdout",
     "output_type": "stream",
     "text": [
      "JobState.JOB_STATE_QUEUED\n",
      "tunedModels/newsgroup-classification-model-k5u8e1ssb\n"
     ]
    }
   ],
   "source": [
    "#Tuning a custom model\n",
    "from collections.abc import Iterable\n",
    "import random\n",
    "\n",
    "# Convert the data frame into a dataset suitable for tuning.\n",
    "input_data = {'examples': \n",
    "    df_train[['Text', 'Class Name']]\n",
    "      .rename(columns={'Text': 'textInput', 'Class Name': 'output'})\n",
    "      .to_dict(orient='records')\n",
    " }\n",
    "\n",
    "#if re-running\n",
    "model_id = None\n",
    "\n",
    "if not model_id:\n",
    "  queued_model = None\n",
    "  for m in reversed(client.tunings.list()):\n",
    "    if m.name.startswith('tunedModels/newsgroup-classification-model'):\n",
    "      if m.state.name == 'JOB_STATE_SUCCEEDED':\n",
    "        model_id = m.name\n",
    "        print('Found existing tuned model to reuse.')\n",
    "        break\n",
    "\n",
    "      elif m.state.name == 'JOB_STATE_RUNNING' and not queued_model:\n",
    "        queued_model = m.name\n",
    "  else:\n",
    "    if queued_model:\n",
    "      model_id = queued_model\n",
    "      print('Found queued model, still waiting.')\n",
    "\n",
    "if not model_id:\n",
    "    tuning_op = client.tunings.tune(\n",
    "        base_model=\"models/gemini-1.5-flash-001-tuning\",\n",
    "        training_dataset=input_data,\n",
    "        config=types.CreateTuningJobConfig(\n",
    "            tuned_model_display_name=\"Newsgroup classification model\",\n",
    "            batch_size=16,\n",
    "            epoch_count=2,\n",
    "        ),\n",
    "    )\n",
    "    print(tuning_op.state)\n",
    "    model_id = tuning_op.name\n",
    "print(model_id)"
   ]
  },
  {
   "cell_type": "code",
   "execution_count": 49,
   "metadata": {
    "execution": {
     "iopub.execute_input": "2025-04-04T18:38:27.468977Z",
     "iopub.status.busy": "2025-04-04T18:38:27.468568Z",
     "iopub.status.idle": "2025-04-04T18:45:33.758672Z",
     "shell.execute_reply": "2025-04-04T18:45:33.757186Z",
     "shell.execute_reply.started": "2025-04-04T18:38:27.468949Z"
    },
    "trusted": true
   },
   "outputs": [
    {
     "name": "stdout",
     "output_type": "stream",
     "text": [
      "JobState.JOB_STATE_RUNNING\n",
      "JobState.JOB_STATE_RUNNING\n",
      "JobState.JOB_STATE_RUNNING\n",
      "JobState.JOB_STATE_RUNNING\n",
      "JobState.JOB_STATE_RUNNING\n",
      "JobState.JOB_STATE_RUNNING\n",
      "JobState.JOB_STATE_RUNNING\n",
      "Taking a shortcut, using a previously prepared model.\n",
      "Done! The model state is: JOB_STATE_SUCCEEDED\n"
     ]
    }
   ],
   "source": [
    "import datetime\n",
    "import time\n",
    "\n",
    "MAX_WAIT = datetime.timedelta(minutes=10)\n",
    "\n",
    "while not (tuned_model := client.tunings.get(name=model_id)).has_ended:\n",
    "\n",
    "    print(tuned_model.state)\n",
    "    time.sleep(60)\n",
    "\n",
    "    if datetime.datetime.now(datetime.timezone.utc) - tuned_model.create_time > MAX_WAIT:\n",
    "        print(\"Taking a shortcut, using a previously prepared model.\")\n",
    "        model_id = \"tunedModels/newsgroup-classification-model-ltenbi1b\"\n",
    "        tuned_model = client.tunings.get(name=model_id)\n",
    "        break\n",
    "print(f\"Done! The model state is: {tuned_model.state.name}\")\n",
    "\n",
    "if not tuned_model.has_succeeded and tuned_model.error:\n",
    "    print(\"Error:\", tuned_model.error)"
   ]
  },
  {
   "cell_type": "code",
   "execution_count": 52,
   "metadata": {
    "execution": {
     "iopub.execute_input": "2025-04-04T18:48:08.849996Z",
     "iopub.status.busy": "2025-04-04T18:48:08.849595Z",
     "iopub.status.idle": "2025-04-04T18:48:09.400968Z",
     "shell.execute_reply": "2025-04-04T18:48:09.399781Z",
     "shell.execute_reply.started": "2025-04-04T18:48:08.849966Z"
    },
    "trusted": true
   },
   "outputs": [
    {
     "name": "stdout",
     "output_type": "stream",
     "text": [
      "sci.space\n"
     ]
    }
   ],
   "source": [
    "new_text = \"\"\"\n",
    "First-timer looking to get out of here.\n",
    "\n",
    "Hi, I'm writing about my interest in travelling to the outer limits!\n",
    "\n",
    "What kind of craft can I buy? What is easiest to access from this 3rd rock?\n",
    "\n",
    "Let me know how to do that please.\n",
    "\"\"\"\n",
    "\n",
    "response = client.models.generate_content(\n",
    "    model=model_id, contents=new_text)\n",
    "\n",
    "print(response.text)"
   ]
  },
  {
   "cell_type": "code",
   "execution_count": 68,
   "metadata": {
    "execution": {
     "iopub.execute_input": "2025-04-04T18:55:08.643286Z",
     "iopub.status.busy": "2025-04-04T18:55:08.642951Z",
     "iopub.status.idle": "2025-04-04T18:55:08.649999Z",
     "shell.execute_reply": "2025-04-04T18:55:08.648753Z",
     "shell.execute_reply.started": "2025-04-04T18:55:08.643261Z"
    },
    "trusted": true
   },
   "outputs": [],
   "source": [
    "import time\n",
    "from google.api_core.exceptions import ResourceExhausted\n",
    "from tenacity import retry, stop_after_attempt, wait_exponential\n",
    "\n",
    "@retry(wait=wait_exponential(multiplier=2, min=5, max=60), stop=stop_after_attempt(5))\n",
    "def classify_text(text: str) -> str:\n",
    "    \"\"\"Classify the provided text into a known newsgroup with retries.\"\"\"\n",
    "    try:\n",
    "        response = client.models.generate_content(model=model_id, contents=text)\n",
    "        rc = response.candidates[0]\n",
    "\n",
    "        if rc.finish_reason.name != \"STOP\":\n",
    "            return \"(error)\"\n",
    "        else:\n",
    "            return rc.content.parts[0].text\n",
    "\n",
    "    except ResourceExhausted:\n",
    "        print(\"Quota exceeded. Retrying...\")\n",
    "        raise  "
   ]
  },
  {
   "cell_type": "code",
   "execution_count": 64,
   "metadata": {
    "execution": {
     "iopub.execute_input": "2025-04-04T18:54:54.459277Z",
     "iopub.status.busy": "2025-04-04T18:54:54.458951Z",
     "iopub.status.idle": "2025-04-04T18:54:54.592683Z",
     "shell.execute_reply": "2025-04-04T18:54:54.591596Z",
     "shell.execute_reply.started": "2025-04-04T18:54:54.459252Z"
    },
    "trusted": true
   },
   "outputs": [
    {
     "name": "stdout",
     "output_type": "stream",
     "text": [
      "System instructed baseline model: 21 (input)\n",
      "Tuned model: 9 (input)\n",
      "Token savings: 133.33%\n"
     ]
    }
   ],
   "source": [
    "system_instruct = \"You are an AI assistant that helps classify text into categories.\"\n",
    "sample_row = \"This is a test sentence for classification.\"\n",
    "\n",
    "sysint_tokens = client.models.count_tokens(\n",
    "    model='gemini-1.5-flash-001', contents=[system_instruct, sample_row]\n",
    ").total_tokens\n",
    "print(f'System instructed baseline model: {sysint_tokens} (input)')\n",
    "\n",
    "# Calculate the input cost of the tuned model.\n",
    "tuned_tokens = client.models.count_tokens(model=tuned_model.base_model, contents=sample_row).total_tokens\n",
    "print(f'Tuned model: {tuned_tokens} (input)')\n",
    "\n",
    "savings = (sysint_tokens - tuned_tokens) / tuned_tokens\n",
    "print(f'Token savings: {savings:.2%}')  # Note that this is only n=1."
   ]
  }
 ],
 "metadata": {
  "kaggle": {
   "accelerator": "none",
   "dataSources": [],
   "dockerImageVersionId": 30918,
   "isGpuEnabled": false,
   "isInternetEnabled": true,
   "language": "python",
   "sourceType": "notebook"
  },
  "kernelspec": {
   "display_name": "Python 3",
   "language": "python",
   "name": "python3"
  },
  "language_info": {
   "codemirror_mode": {
    "name": "ipython",
    "version": 3
   },
   "file_extension": ".py",
   "mimetype": "text/x-python",
   "name": "python",
   "nbconvert_exporter": "python",
   "pygments_lexer": "ipython3",
   "version": "3.10.12"
  }
 },
 "nbformat": 4,
 "nbformat_minor": 4
}
