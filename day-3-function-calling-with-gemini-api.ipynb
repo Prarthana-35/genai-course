{
 "cells": [
  {
   "cell_type": "code",
   "execution_count": 1,
   "metadata": {
    "_cell_guid": "b1076dfc-b9ad-4769-8c92-a6c4dae69d19",
    "_uuid": "8f2839f25d086af736a60e9eeb907d3b93b6e0e5",
    "execution": {
     "iopub.execute_input": "2025-04-04T08:46:31.630736Z",
     "iopub.status.busy": "2025-04-04T08:46:31.630425Z",
     "iopub.status.idle": "2025-04-04T08:46:41.349291Z",
     "shell.execute_reply": "2025-04-04T08:46:41.348475Z",
     "shell.execute_reply.started": "2025-04-04T08:46:31.630700Z"
    },
    "trusted": true
   },
   "outputs": [
    {
     "name": "stdout",
     "output_type": "stream",
     "text": [
      "\u001b[2K   \u001b[90m━━━━━━━━━━━━━━━━━━━━━━━━━━━━━━━━━━━━━━━━\u001b[0m \u001b[32m144.7/144.7 kB\u001b[0m \u001b[31m4.6 MB/s\u001b[0m eta \u001b[36m0:00:00\u001b[0m\n",
      "\u001b[2K   \u001b[90m━━━━━━━━━━━━━━━━━━━━━━━━━━━━━━━━━━━━━━━━\u001b[0m \u001b[32m100.9/100.9 kB\u001b[0m \u001b[31m5.6 MB/s\u001b[0m eta \u001b[36m0:00:00\u001b[0m\n",
      "\u001b[?25h"
     ]
    },
    {
     "data": {
      "text/plain": [
       "'1.7.0'"
      ]
     },
     "execution_count": 1,
     "metadata": {},
     "output_type": "execute_result"
    }
   ],
   "source": [
    "!pip uninstall -qqy jupyterlab  # Remove unused conflicting packages\n",
    "!pip install -U -q \"google-genai==1.7.0\"\n",
    "from google import genai\n",
    "from google.genai import types\n",
    "\n",
    "genai.__version__"
   ]
  },
  {
   "cell_type": "code",
   "execution_count": 3,
   "metadata": {
    "execution": {
     "iopub.execute_input": "2025-04-04T08:47:17.558008Z",
     "iopub.status.busy": "2025-04-04T08:47:17.557649Z",
     "iopub.status.idle": "2025-04-04T08:47:17.640297Z",
     "shell.execute_reply": "2025-04-04T08:47:17.639226Z",
     "shell.execute_reply.started": "2025-04-04T08:47:17.557977Z"
    },
    "trusted": true
   },
   "outputs": [],
   "source": [
    "from kaggle_secrets import UserSecretsClient\n",
    "\n",
    "GOOGLE_API_KEY = UserSecretsClient().get_secret(\"GOOGLE_API_KEY\")"
   ]
  },
  {
   "cell_type": "code",
   "execution_count": 6,
   "metadata": {
    "execution": {
     "iopub.execute_input": "2025-04-04T08:47:45.194255Z",
     "iopub.status.busy": "2025-04-04T08:47:45.193944Z",
     "iopub.status.idle": "2025-04-04T08:47:45.199124Z",
     "shell.execute_reply": "2025-04-04T08:47:45.198028Z",
     "shell.execute_reply.started": "2025-04-04T08:47:45.194231Z"
    },
    "trusted": true
   },
   "outputs": [],
   "source": [
    "# Define a retry policy. The model might make multiple consecutive calls automatically\n",
    "# for a complex query, this ensures the client retries if it hits quota limits.\n",
    "from google.api_core import retry\n",
    "\n",
    "is_retriable = lambda e: (isinstance(e, genai.errors.APIError) and e.code in {429, 503})\n",
    "\n",
    "if not hasattr(genai.models.Models.generate_content, '__wrapped__'):\n",
    "  genai.models.Models.generate_content = retry.Retry(\n",
    "      predicate=is_retriable)(genai.models.Models.generate_content)"
   ]
  },
  {
   "cell_type": "code",
   "execution_count": 8,
   "metadata": {
    "execution": {
     "iopub.execute_input": "2025-04-04T08:50:51.844773Z",
     "iopub.status.busy": "2025-04-04T08:50:51.844126Z",
     "iopub.status.idle": "2025-04-04T08:50:51.851955Z",
     "shell.execute_reply": "2025-04-04T08:50:51.850979Z",
     "shell.execute_reply.started": "2025-04-04T08:50:51.844737Z"
    },
    "trusted": true
   },
   "outputs": [
    {
     "name": "stdout",
     "output_type": "stream",
     "text": [
      "The sql extension is already loaded. To reload it, use:\n",
      "  %reload_ext sql\n"
     ]
    }
   ],
   "source": [
    "%load_ext sql\n",
    "%sql sqlite:///sample.db"
   ]
  },
  {
   "cell_type": "code",
   "execution_count": 9,
   "metadata": {
    "execution": {
     "iopub.execute_input": "2025-04-04T08:51:32.906795Z",
     "iopub.status.busy": "2025-04-04T08:51:32.906470Z",
     "iopub.status.idle": "2025-04-04T08:51:32.981853Z",
     "shell.execute_reply": "2025-04-04T08:51:32.981071Z",
     "shell.execute_reply.started": "2025-04-04T08:51:32.906770Z"
    },
    "trusted": true
   },
   "outputs": [
    {
     "name": "stdout",
     "output_type": "stream",
     "text": [
      " * sqlite:///sample.db\n",
      "Done.\n",
      "Done.\n",
      "Done.\n",
      "3 rows affected.\n",
      "3 rows affected.\n",
      "3 rows affected.\n"
     ]
    },
    {
     "data": {
      "text/plain": [
       "[]"
      ]
     },
     "execution_count": 9,
     "metadata": {},
     "output_type": "execute_result"
    }
   ],
   "source": [
    "%%sql\n",
    "-- Create the 'products' table\n",
    "CREATE TABLE IF NOT EXISTS products (\n",
    "  \tproduct_id INTEGER PRIMARY KEY AUTOINCREMENT,\n",
    "  \tproduct_name VARCHAR(255) NOT NULL,\n",
    "  \tprice DECIMAL(10, 2) NOT NULL\n",
    "  );\n",
    "\n",
    "-- Create the 'staff' table\n",
    "CREATE TABLE IF NOT EXISTS staff (\n",
    "  \tstaff_id INTEGER PRIMARY KEY AUTOINCREMENT,\n",
    "  \tfirst_name VARCHAR(255) NOT NULL,\n",
    "  \tlast_name VARCHAR(255) NOT NULL\n",
    "  );\n",
    "\n",
    "-- Create the 'orders' table\n",
    "CREATE TABLE IF NOT EXISTS orders (\n",
    "  \torder_id INTEGER PRIMARY KEY AUTOINCREMENT,\n",
    "  \tcustomer_name VARCHAR(255) NOT NULL,\n",
    "  \tstaff_id INTEGER NOT NULL,\n",
    "  \tproduct_id INTEGER NOT NULL,\n",
    "  \tFOREIGN KEY (staff_id) REFERENCES staff (staff_id),\n",
    "  \tFOREIGN KEY (product_id) REFERENCES products (product_id)\n",
    "  );\n",
    "\n",
    "-- Insert data into the 'products' table\n",
    "INSERT INTO products (product_name, price) VALUES\n",
    "  \t('Laptop', 799.99),\n",
    "  \t('Keyboard', 129.99),\n",
    "  \t('Mouse', 29.99);\n",
    "\n",
    "-- Insert data into the 'staff' table\n",
    "INSERT INTO staff (first_name, last_name) VALUES\n",
    "  \t('Alice', 'Smith'),\n",
    "  \t('Bob', 'Johnson'),\n",
    "  \t('Charlie', 'Williams');\n",
    "\n",
    "-- Insert data into the 'orders' table\n",
    "INSERT INTO orders (customer_name, staff_id, product_id) VALUES\n",
    "  \t('David Lee', 1, 1),\n",
    "  \t('Emily Chen', 2, 2),\n",
    "  \t('Frank Brown', 1, 3);"
   ]
  },
  {
   "cell_type": "code",
   "execution_count": 11,
   "metadata": {
    "execution": {
     "iopub.execute_input": "2025-04-04T08:55:07.670660Z",
     "iopub.status.busy": "2025-04-04T08:55:07.670335Z",
     "iopub.status.idle": "2025-04-04T08:55:07.675342Z",
     "shell.execute_reply": "2025-04-04T08:55:07.674291Z",
     "shell.execute_reply.started": "2025-04-04T08:55:07.670635Z"
    },
    "trusted": true
   },
   "outputs": [],
   "source": [
    "import sqlite3\n",
    "\n",
    "db_file = \"sample.db\"\n",
    "db_conn = sqlite3.connect(db_file)"
   ]
  },
  {
   "cell_type": "code",
   "execution_count": 12,
   "metadata": {
    "execution": {
     "iopub.execute_input": "2025-04-04T08:55:24.772150Z",
     "iopub.status.busy": "2025-04-04T08:55:24.771841Z",
     "iopub.status.idle": "2025-04-04T08:55:24.780277Z",
     "shell.execute_reply": "2025-04-04T08:55:24.779421Z",
     "shell.execute_reply.started": "2025-04-04T08:55:24.772125Z"
    },
    "trusted": true
   },
   "outputs": [
    {
     "name": "stdout",
     "output_type": "stream",
     "text": [
      " - DB CALL: list_tables()\n"
     ]
    },
    {
     "data": {
      "text/plain": [
       "['products', 'sqlite_sequence', 'staff', 'orders']"
      ]
     },
     "execution_count": 12,
     "metadata": {},
     "output_type": "execute_result"
    }
   ],
   "source": [
    "def list_tables() -> list[str]:\n",
    "    \"\"\"Retrieve the names of all tables in the database.\"\"\"\n",
    "    # Include print logging statements so you can see when functions are being called.\n",
    "    print(' - DB CALL: list_tables()')\n",
    "\n",
    "    cursor = db_conn.cursor()\n",
    "\n",
    "    # Fetch the table names.\n",
    "    cursor.execute(\"SELECT name FROM sqlite_master WHERE type='table';\")\n",
    "\n",
    "    tables = cursor.fetchall()\n",
    "    return [t[0] for t in tables]\n",
    "\n",
    "\n",
    "list_tables()"
   ]
  },
  {
   "cell_type": "code",
   "execution_count": 13,
   "metadata": {
    "execution": {
     "iopub.execute_input": "2025-04-04T09:02:42.545174Z",
     "iopub.status.busy": "2025-04-04T09:02:42.544841Z",
     "iopub.status.idle": "2025-04-04T09:02:42.553564Z",
     "shell.execute_reply": "2025-04-04T09:02:42.552541Z",
     "shell.execute_reply.started": "2025-04-04T09:02:42.545149Z"
    },
    "trusted": true
   },
   "outputs": [
    {
     "name": "stdout",
     "output_type": "stream",
     "text": [
      " - DB CALL: describe_table(products)\n"
     ]
    },
    {
     "data": {
      "text/plain": [
       "[('product_id', 'INTEGER'),\n",
       " ('product_name', 'VARCHAR(255)'),\n",
       " ('price', 'DECIMAL(10, 2)')]"
      ]
     },
     "execution_count": 13,
     "metadata": {},
     "output_type": "execute_result"
    }
   ],
   "source": [
    "def describe_table(table_name: str) -> list[tuple[str, str]]:\n",
    "    \"\"\"Look up the table schema.\n",
    "\n",
    "    Returns:\n",
    "      List of columns, where each entry is a tuple of (column, type).\n",
    "    \"\"\"\n",
    "    print(f' - DB CALL: describe_table({table_name})')\n",
    "\n",
    "    cursor = db_conn.cursor()\n",
    "\n",
    "    cursor.execute(f\"PRAGMA table_info({table_name});\")\n",
    "\n",
    "    schema = cursor.fetchall()\n",
    "    # [column index, column name, column type, ...]\n",
    "    return [(col[1], col[2]) for col in schema]\n",
    "\n",
    "\n",
    "describe_table(\"products\")"
   ]
  },
  {
   "cell_type": "code",
   "execution_count": 14,
   "metadata": {
    "execution": {
     "iopub.execute_input": "2025-04-04T09:04:26.991185Z",
     "iopub.status.busy": "2025-04-04T09:04:26.990790Z",
     "iopub.status.idle": "2025-04-04T09:04:26.999072Z",
     "shell.execute_reply": "2025-04-04T09:04:26.998033Z",
     "shell.execute_reply.started": "2025-04-04T09:04:26.991154Z"
    },
    "trusted": true
   },
   "outputs": [
    {
     "name": "stdout",
     "output_type": "stream",
     "text": [
      " - DB CALL: execute_query(select * from products)\n"
     ]
    },
    {
     "data": {
      "text/plain": [
       "[(1, 'Laptop', 799.99), (2, 'Keyboard', 129.99), (3, 'Mouse', 29.99)]"
      ]
     },
     "execution_count": 14,
     "metadata": {},
     "output_type": "execute_result"
    }
   ],
   "source": [
    "def execute_query(sql: str) -> list[list[str]]:\n",
    "    \"\"\"Execute an SQL statement, returning the results.\"\"\"\n",
    "    print(f' - DB CALL: execute_query({sql})')\n",
    "    cursor = db_conn.cursor()\n",
    "    cursor.execute(sql)\n",
    "    return cursor.fetchall()\n",
    "execute_query(\"select * from products\")"
   ]
  },
  {
   "cell_type": "code",
   "execution_count": 15,
   "metadata": {
    "execution": {
     "iopub.execute_input": "2025-04-04T09:07:29.144332Z",
     "iopub.status.busy": "2025-04-04T09:07:29.143987Z",
     "iopub.status.idle": "2025-04-04T09:07:29.537375Z",
     "shell.execute_reply": "2025-04-04T09:07:29.536366Z",
     "shell.execute_reply.started": "2025-04-04T09:07:29.144304Z"
    },
    "trusted": true
   },
   "outputs": [],
   "source": [
    "db_tools = [list_tables, describe_table, execute_query]\n",
    "\n",
    "instruction = \"\"\"You are a helpful chatbot that can interact with an SQL database\n",
    "for a computer store. You will take the users questions and turn them into SQL\n",
    "queries using the tools available. Once you have the information you need, you will\n",
    "answer the user's question using the data returned.\n",
    "\n",
    "Use list_tables to see what tables are present, describe_table to understand the\n",
    "schema, and execute_query to issue an SQL SELECT query.\"\"\"\n",
    "\n",
    "client = genai.Client(api_key=GOOGLE_API_KEY)\n",
    "\n",
    "# Start a chat with automatic function calling enabled.\n",
    "chat = client.chats.create(\n",
    "    model=\"gemini-2.0-flash\",\n",
    "    config=types.GenerateContentConfig(\n",
    "        system_instruction=instruction,\n",
    "        tools=db_tools,\n",
    "    ),\n",
    ")"
   ]
  },
  {
   "cell_type": "code",
   "execution_count": 16,
   "metadata": {
    "execution": {
     "iopub.execute_input": "2025-04-04T09:09:05.508352Z",
     "iopub.status.busy": "2025-04-04T09:09:05.507947Z",
     "iopub.status.idle": "2025-04-04T09:09:07.397274Z",
     "shell.execute_reply": "2025-04-04T09:09:07.396339Z",
     "shell.execute_reply.started": "2025-04-04T09:09:05.508312Z"
    },
    "trusted": true
   },
   "outputs": [
    {
     "name": "stdout",
     "output_type": "stream",
     "text": [
      " - DB CALL: list_tables()\n",
      " - DB CALL: describe_table(products)\n",
      " - DB CALL: execute_query(SELECT product_name, price FROM products ORDER BY price ASC LIMIT 1)\n",
      "\n",
      "The cheapest product is the Mouse, which costs $29.99.\n"
     ]
    }
   ],
   "source": [
    "resp = chat.send_message(\"What is the cheapest product?\")\n",
    "print(f\"\\n{resp.text}\")"
   ]
  },
  {
   "cell_type": "code",
   "execution_count": 17,
   "metadata": {
    "execution": {
     "iopub.execute_input": "2025-04-04T09:09:33.312020Z",
     "iopub.status.busy": "2025-04-04T09:09:33.311680Z",
     "iopub.status.idle": "2025-04-04T09:09:37.770857Z",
     "shell.execute_reply": "2025-04-04T09:09:37.769893Z",
     "shell.execute_reply.started": "2025-04-04T09:09:33.311996Z"
    },
    "trusted": true
   },
   "outputs": [
    {
     "name": "stdout",
     "output_type": "stream",
     "text": [
      " - DB CALL: list_tables()\n",
      " - DB CALL: describe_table(orders)\n",
      " - DB CALL: describe_table(products)\n",
      " - DB CALL: describe_table(staff)\n",
      " - DB CALL: execute_query(SELECT p.product_name FROM orders o JOIN staff s ON o.staff_id = s.staff_id JOIN products p ON o.product_id = p.product_id WHERE s.first_name = 'Alice')\n",
      " - DB CALL: execute_query(SELECT product_name FROM products)\n",
      "\n",
      "Alice has sold Laptops and Mice. The only other product is Keyboards. So, Alice should focus on selling Keyboards to round out her portfolio.\n",
      "\n"
     ]
    }
   ],
   "source": [
    "chat = client.chats.create(\n",
    "    model=\"gemini-2.0-flash\",\n",
    "    config=types.GenerateContentConfig(\n",
    "        system_instruction=instruction,\n",
    "        tools=db_tools,\n",
    "    ),\n",
    ")\n",
    "response = chat.send_message('What products should salesperson Alice focus on to round out her portfolio? Explain why.')\n",
    "print(f\"\\n{response.text}\")"
   ]
  },
  {
   "cell_type": "code",
   "execution_count": 19,
   "metadata": {
    "execution": {
     "iopub.execute_input": "2025-04-04T09:10:59.109414Z",
     "iopub.status.busy": "2025-04-04T09:10:59.109066Z",
     "iopub.status.idle": "2025-04-04T09:10:59.123976Z",
     "shell.execute_reply": "2025-04-04T09:10:59.123007Z",
     "shell.execute_reply.started": "2025-04-04T09:10:59.109387Z"
    },
    "trusted": true
   },
   "outputs": [
    {
     "name": "stdout",
     "output_type": "stream",
     "text": [
      "User:\n",
      "  \"What products should salesperson Alice focus on to round out her portfolio? Explain why.\"\n",
      "\n",
      "Model:\n",
      "  Function call: list_tables()\n",
      "\n",
      "User:\n",
      "  Function response:\n",
      "    ['products', 'sqlite_sequence', 'staff', 'orders']\n",
      "\n",
      "Model:\n",
      "  \"Okay, I see tables named 'products', 'staff', and 'orders'. To figure out what Alice should focus on, I need to know what she's already sold. That means I need to look at the 'orders' table to see who sold what. I also need to know the product categories to see which ones Alice might be missing.\n",
      "\"\n",
      "  Function call: describe_table(table_name=orders)\n",
      "  Function call: describe_table(table_name=products)\n",
      "  Function call: describe_table(table_name=staff)\n",
      "\n",
      "User:\n",
      "  Function response:\n",
      "    [('order_id', 'INTEGER'), ('customer_name', 'VARCHAR(255)'), ('staff_id', 'INTEGER'), ('product_id', 'INTEGER')]\n",
      "  Function response:\n",
      "    [('product_id', 'INTEGER'), ('product_name', 'VARCHAR(255)'), ('price', 'DECIMAL(10, 2)')]\n",
      "  Function response:\n",
      "    [('staff_id', 'INTEGER'), ('first_name', 'VARCHAR(255)'), ('last_name', 'VARCHAR(255)')]\n",
      "\n",
      "Model:\n",
      "  \"Okay, the tables have the following columns:\n",
      "\n",
      "*   **orders**: order\\_id, customer\\_name, staff\\_id, product\\_id\n",
      "*   **products**: product\\_id, product\\_name, price\n",
      "*   **staff**: staff\\_id, first\\_name, last\\_name\n",
      "\n",
      "I can join 'orders' and 'staff' on staff\\_id to find Alice's sales, and then join with 'products' to see what she has sold. I need to find a way to determine product categories though, since that information isn't directly available. I will assume that product name can be used to determine the category. Then I can suggest products from categories she hasn't sold yet.\n",
      "\"\n",
      "  Function call: execute_query(sql=SELECT p.product_name FROM orders o JOIN staff s ON o.staff_id = s.staff_id JOIN products p ON o.product_id = p.product_id WHERE s.first_name = 'Alice')\n",
      "\n",
      "User:\n",
      "  Function response:\n",
      "    [('Laptop',), ('Mouse',)]\n",
      "\n",
      "Model:\n",
      "  \"Okay, Alice has sold Laptops and Mice. Let's see what other products there are so I can suggest something different.\n",
      "\"\n",
      "  Function call: execute_query(sql=SELECT product_name FROM products)\n",
      "\n",
      "User:\n",
      "  Function response:\n",
      "    [('Laptop',), ('Keyboard',), ('Mouse',)]\n",
      "\n",
      "Model:\n",
      "  \"Alice has sold Laptops and Mice. The only other product is Keyboards. So, Alice should focus on selling Keyboards to round out her portfolio.\n",
      "\"\n",
      "\n"
     ]
    }
   ],
   "source": [
    "import textwrap\n",
    "def print_chat_turns(chat):\n",
    "    \"\"\"Prints out each turn in the chat history, including function calls and responses.\"\"\"\n",
    "    for event in chat.get_history():\n",
    "        print(f\"{event.role.capitalize()}:\")\n",
    "\n",
    "        for part in event.parts:\n",
    "            if txt := part.text:\n",
    "                print(f'  \"{txt}\"')\n",
    "            elif fn := part.function_call:\n",
    "                args = \", \".join(f\"{key}={val}\" for key, val in fn.args.items())\n",
    "                print(f\"  Function call: {fn.name}({args})\")\n",
    "            elif resp := part.function_response:\n",
    "                print(\"  Function response:\")\n",
    "                print(textwrap.indent(str(resp.response['result']), \"    \"))\n",
    "        print()\n",
    "print_chat_turns(chat)"
   ]
  },
  {
   "cell_type": "code",
   "execution_count": null,
   "metadata": {
    "trusted": true
   },
   "outputs": [],
   "source": []
  },
  {
   "cell_type": "code",
   "execution_count": 21,
   "metadata": {
    "execution": {
     "iopub.execute_input": "2025-04-04T09:18:21.024745Z",
     "iopub.status.busy": "2025-04-04T09:18:21.024419Z",
     "iopub.status.idle": "2025-04-04T09:18:21.032994Z",
     "shell.execute_reply": "2025-04-04T09:18:21.031961Z",
     "shell.execute_reply.started": "2025-04-04T09:18:21.024708Z"
    },
    "trusted": true
   },
   "outputs": [],
   "source": [
    "from pprint import pformat\n",
    "from IPython.display import display, Image, Markdown\n",
    "async def handle_response(stream, tool_impl=None):\n",
    "  \"\"\"Stream output and handle any tool calls during the session.\"\"\"\n",
    "  all_responses = []\n",
    "  async for msg in stream.receive():\n",
    "    all_responses.append(msg)\n",
    "    if text := msg.text:\n",
    "      if len(all_responses) < 2 or not all_responses[-2].text:\n",
    "        display(Markdown('### Text'))\n",
    "      print(text, end='')\n",
    "\n",
    "    elif tool_call := msg.tool_call:\n",
    "      for fc in tool_call.function_calls:\n",
    "        display(Markdown('### Tool call'))\n",
    "        if callable(tool_impl):\n",
    "          try:\n",
    "            result = tool_impl(**fc.args)\n",
    "          except Exception as e:\n",
    "            result = str(e)\n",
    "        else:\n",
    "          result = 'ok'\n",
    "        tool_response = types.LiveClientToolResponse(\n",
    "            function_responses=[types.FunctionResponse(\n",
    "                name=fc.name,\n",
    "                id=fc.id,\n",
    "                response={'result': result},\n",
    "            )]\n",
    "        )\n",
    "        await stream.send(input=tool_response)\n",
    "    elif msg.server_content and msg.server_content.model_turn:\n",
    "      for part in msg.server_content.model_turn.parts:\n",
    "          if code := part.executable_code:\n",
    "            display(Markdown(\n",
    "                f'### Code\\n```\\n{code.code}\\n```'))\n",
    "          elif result := part.code_execution_result:\n",
    "            display(Markdown(f'### Result: {result.outcome}\\n'\n",
    "                             f'```\\n{pformat(result.output)}\\n```'))\n",
    "          elif img := part.inline_data:\n",
    "            display(Image(img.data))\n",
    "  print()\n",
    "  return all_responses"
   ]
  },
  {
   "cell_type": "code",
   "execution_count": 23,
   "metadata": {
    "execution": {
     "iopub.execute_input": "2025-04-04T09:28:51.153086Z",
     "iopub.status.busy": "2025-04-04T09:28:51.152687Z",
     "iopub.status.idle": "2025-04-04T09:28:57.819324Z",
     "shell.execute_reply": "2025-04-04T09:28:57.818109Z",
     "shell.execute_reply.started": "2025-04-04T09:28:51.153053Z"
    },
    "trusted": true
   },
   "outputs": [
    {
     "name": "stdout",
     "output_type": "stream",
     "text": [
      "> Please generate and insert 5 new rows in the orders table.\n",
      "\n"
     ]
    },
    {
     "data": {
      "text/markdown": [
       "### Code\n",
       "```\n",
       "print(default_api.execute_query(sql=\"SELECT * FROM orders LIMIT 5;\"))\n",
       "\n",
       "```"
      ],
      "text/plain": [
       "<IPython.core.display.Markdown object>"
      ]
     },
     "metadata": {},
     "output_type": "display_data"
    },
    {
     "data": {
      "text/markdown": [
       "### Tool call"
      ],
      "text/plain": [
       "<IPython.core.display.Markdown object>"
      ]
     },
     "metadata": {},
     "output_type": "display_data"
    },
    {
     "name": "stdout",
     "output_type": "stream",
     "text": [
      " - DB CALL: execute_query(SELECT * FROM orders LIMIT 5;)\n"
     ]
    },
    {
     "data": {
      "text/markdown": [
       "### Result: OUTCOME_OK\n",
       "```\n",
       "(\"{'result': [[1, 'David Lee', 1, 1], [2, 'Emily Chen', 2, 2], [3, 'Frank \"\n",
       " \"Brown', 1, 3], [4, 'Alice Smith', 1, 101], [5, 'Bob Johnson', 2, 102]]}\\n\")\n",
       "```"
      ],
      "text/plain": [
       "<IPython.core.display.Markdown object>"
      ]
     },
     "metadata": {},
     "output_type": "display_data"
    },
    {
     "data": {
      "text/markdown": [
       "### Code\n",
       "```\n",
       "print(default_api.execute_query(sql=\"INSERT INTO orders (customer_name, customer_id, item_id) VALUES ('New Customer 1', 3, 4);\"))\n",
       "print(default_api.execute_query(sql=\"INSERT INTO orders (customer_name, customer_id, item_id) VALUES ('New Customer 2', 4, 5);\"))\n",
       "print(default_api.execute_query(sql=\"INSERT INTO orders (customer_name, customer_id, item_id) VALUES ('New Customer 3', 3, 6);\"))\n",
       "print(default_api.execute_query(sql=\"INSERT INTO orders (customer_name, customer_id, item_id) VALUES ('New Customer 4', 4, 7);\"))\n",
       "print(default_api.execute_query(sql=\"INSERT INTO orders (customer_name, customer_id, item_id) VALUES ('New Customer 5', 3, 8);\"))\n",
       "print(default_api.execute_query(sql=\"SELECT * FROM orders ORDER BY order_id DESC LIMIT 5;\"))\n",
       "\n",
       "```"
      ],
      "text/plain": [
       "<IPython.core.display.Markdown object>"
      ]
     },
     "metadata": {},
     "output_type": "display_data"
    },
    {
     "data": {
      "text/markdown": [
       "### Tool call"
      ],
      "text/plain": [
       "<IPython.core.display.Markdown object>"
      ]
     },
     "metadata": {},
     "output_type": "display_data"
    },
    {
     "name": "stdout",
     "output_type": "stream",
     "text": [
      " - DB CALL: execute_query(INSERT INTO orders (customer_name, customer_id, item_id) VALUES ('New Customer 1', 3, 4);)\n"
     ]
    },
    {
     "data": {
      "text/markdown": [
       "### Tool call"
      ],
      "text/plain": [
       "<IPython.core.display.Markdown object>"
      ]
     },
     "metadata": {},
     "output_type": "display_data"
    },
    {
     "name": "stdout",
     "output_type": "stream",
     "text": [
      " - DB CALL: execute_query(INSERT INTO orders (customer_name, customer_id, item_id) VALUES ('New Customer 2', 4, 5);)\n"
     ]
    },
    {
     "data": {
      "text/markdown": [
       "### Tool call"
      ],
      "text/plain": [
       "<IPython.core.display.Markdown object>"
      ]
     },
     "metadata": {},
     "output_type": "display_data"
    },
    {
     "name": "stdout",
     "output_type": "stream",
     "text": [
      " - DB CALL: execute_query(INSERT INTO orders (customer_name, customer_id, item_id) VALUES ('New Customer 3', 3, 6);)\n"
     ]
    },
    {
     "data": {
      "text/markdown": [
       "### Tool call"
      ],
      "text/plain": [
       "<IPython.core.display.Markdown object>"
      ]
     },
     "metadata": {},
     "output_type": "display_data"
    },
    {
     "name": "stdout",
     "output_type": "stream",
     "text": [
      " - DB CALL: execute_query(INSERT INTO orders (customer_name, customer_id, item_id) VALUES ('New Customer 4', 4, 7);)\n"
     ]
    },
    {
     "data": {
      "text/markdown": [
       "### Tool call"
      ],
      "text/plain": [
       "<IPython.core.display.Markdown object>"
      ]
     },
     "metadata": {},
     "output_type": "display_data"
    },
    {
     "name": "stdout",
     "output_type": "stream",
     "text": [
      " - DB CALL: execute_query(INSERT INTO orders (customer_name, customer_id, item_id) VALUES ('New Customer 5', 3, 8);)\n"
     ]
    },
    {
     "data": {
      "text/markdown": [
       "### Tool call"
      ],
      "text/plain": [
       "<IPython.core.display.Markdown object>"
      ]
     },
     "metadata": {},
     "output_type": "display_data"
    },
    {
     "name": "stdout",
     "output_type": "stream",
     "text": [
      " - DB CALL: execute_query(SELECT * FROM orders ORDER BY order_id DESC LIMIT 5;)\n"
     ]
    },
    {
     "data": {
      "text/markdown": [
       "### Result: OUTCOME_OK\n",
       "```\n",
       "(\"{'result': 'table orders has no column named customer_id'}\\n\"\n",
       " \"{'result': 'table orders has no column named customer_id'}\\n\"\n",
       " \"{'result': 'table orders has no column named customer_id'}\\n\"\n",
       " \"{'result': 'table orders has no column named customer_id'}\\n\"\n",
       " \"{'result': 'table orders has no column named customer_id'}\\n\"\n",
       " \"{'result': [[8, 'Eve Miller', 2, 105], [7, 'Diana Prince', 3, 104], [6, \"\n",
       " \"'Charlie Brown', 1, 103], [5, 'Bob Johnson', 2, 102], [4, 'Alice Smith', 1, \"\n",
       " '101]]}\\n')\n",
       "```"
      ],
      "text/plain": [
       "<IPython.core.display.Markdown object>"
      ]
     },
     "metadata": {},
     "output_type": "display_data"
    },
    {
     "data": {
      "text/markdown": [
       "### Text"
      ],
      "text/plain": [
       "<IPython.core.display.Markdown object>"
      ]
     },
     "metadata": {},
     "output_type": "display_data"
    },
    {
     "name": "stdout",
     "output_type": "stream",
     "text": [
      "It seems I made a mistake in the INSERT statement. The `orders` table does not have columns named `customer_id`.  I will try again, but first I need to see the column names.\n"
     ]
    },
    {
     "data": {
      "text/markdown": [
       "### Code\n",
       "```\n",
       "print(default_api.execute_query(sql=\"PRAGMA table_info(orders)\"))\n",
       "\n",
       "```"
      ],
      "text/plain": [
       "<IPython.core.display.Markdown object>"
      ]
     },
     "metadata": {},
     "output_type": "display_data"
    },
    {
     "data": {
      "text/markdown": [
       "### Tool call"
      ],
      "text/plain": [
       "<IPython.core.display.Markdown object>"
      ]
     },
     "metadata": {},
     "output_type": "display_data"
    },
    {
     "name": "stdout",
     "output_type": "stream",
     "text": [
      " - DB CALL: execute_query(PRAGMA table_info(orders))\n"
     ]
    },
    {
     "data": {
      "text/markdown": [
       "### Result: OUTCOME_OK\n",
       "```\n",
       "(\"{'result': [[0, 'order_id', 'INTEGER', 0, None, 1], [1, 'customer_name', \"\n",
       " \"'VARCHAR(255)', 1, None, 0], [2, 'staff_id', 'INTEGER', 1, None, 0], [3, \"\n",
       " \"'product_id', 'INTEGER', 1, None, 0]]}\\n\")\n",
       "```"
      ],
      "text/plain": [
       "<IPython.core.display.Markdown object>"
      ]
     },
     "metadata": {},
     "output_type": "display_data"
    },
    {
     "data": {
      "text/markdown": [
       "### Text"
      ],
      "text/plain": [
       "<IPython.core.display.Markdown object>"
      ]
     },
     "metadata": {},
     "output_type": "display_data"
    },
    {
     "name": "stdout",
     "output_type": "stream",
     "text": [
      "Okay, I see the columns are `order_id`, `customer_name`, `staff_id`, and `product_id`. I'll insert the 5 new rows using the correct column names.\n"
     ]
    },
    {
     "data": {
      "text/markdown": [
       "### Code\n",
       "```\n",
       "print(default_api.execute_query(sql=\"INSERT INTO orders (customer_name, staff_id, product_id) VALUES ('New Customer 1', 3, 4);\"))\n",
       "print(default_api.execute_query(sql=\"INSERT INTO orders (customer_name, staff_id, product_id) VALUES ('New Customer 2', 4, 5);\"))\n",
       "print(default_api.execute_query(sql=\"INSERT INTO orders (customer_name, staff_id, product_id) VALUES ('New Customer 3', 3, 6);\"))\n",
       "print(default_api.execute_query(sql=\"INSERT INTO orders (customer_name, staff_id, product_id) VALUES ('New Customer 4', 4, 7);\"))\n",
       "print(default_api.execute_query(sql=\"INSERT INTO orders (customer_name, staff_id, product_id) VALUES ('New Customer 5', 3, 8);\"))\n",
       "print(default_api.execute_query(sql=\"SELECT * FROM orders ORDER BY order_id DESC LIMIT 5;\"))\n",
       "\n",
       "```"
      ],
      "text/plain": [
       "<IPython.core.display.Markdown object>"
      ]
     },
     "metadata": {},
     "output_type": "display_data"
    },
    {
     "data": {
      "text/markdown": [
       "### Tool call"
      ],
      "text/plain": [
       "<IPython.core.display.Markdown object>"
      ]
     },
     "metadata": {},
     "output_type": "display_data"
    },
    {
     "name": "stdout",
     "output_type": "stream",
     "text": [
      " - DB CALL: execute_query(INSERT INTO orders (customer_name, staff_id, product_id) VALUES ('New Customer 1', 3, 4);)\n"
     ]
    },
    {
     "data": {
      "text/markdown": [
       "### Tool call"
      ],
      "text/plain": [
       "<IPython.core.display.Markdown object>"
      ]
     },
     "metadata": {},
     "output_type": "display_data"
    },
    {
     "name": "stdout",
     "output_type": "stream",
     "text": [
      " - DB CALL: execute_query(INSERT INTO orders (customer_name, staff_id, product_id) VALUES ('New Customer 2', 4, 5);)\n"
     ]
    },
    {
     "data": {
      "text/markdown": [
       "### Tool call"
      ],
      "text/plain": [
       "<IPython.core.display.Markdown object>"
      ]
     },
     "metadata": {},
     "output_type": "display_data"
    },
    {
     "name": "stdout",
     "output_type": "stream",
     "text": [
      " - DB CALL: execute_query(INSERT INTO orders (customer_name, staff_id, product_id) VALUES ('New Customer 3', 3, 6);)\n"
     ]
    },
    {
     "data": {
      "text/markdown": [
       "### Tool call"
      ],
      "text/plain": [
       "<IPython.core.display.Markdown object>"
      ]
     },
     "metadata": {},
     "output_type": "display_data"
    },
    {
     "name": "stdout",
     "output_type": "stream",
     "text": [
      " - DB CALL: execute_query(INSERT INTO orders (customer_name, staff_id, product_id) VALUES ('New Customer 4', 4, 7);)\n"
     ]
    },
    {
     "data": {
      "text/markdown": [
       "### Tool call"
      ],
      "text/plain": [
       "<IPython.core.display.Markdown object>"
      ]
     },
     "metadata": {},
     "output_type": "display_data"
    },
    {
     "name": "stdout",
     "output_type": "stream",
     "text": [
      " - DB CALL: execute_query(INSERT INTO orders (customer_name, staff_id, product_id) VALUES ('New Customer 5', 3, 8);)\n"
     ]
    },
    {
     "data": {
      "text/markdown": [
       "### Tool call"
      ],
      "text/plain": [
       "<IPython.core.display.Markdown object>"
      ]
     },
     "metadata": {},
     "output_type": "display_data"
    },
    {
     "name": "stdout",
     "output_type": "stream",
     "text": [
      " - DB CALL: execute_query(SELECT * FROM orders ORDER BY order_id DESC LIMIT 5;)\n"
     ]
    },
    {
     "data": {
      "text/markdown": [
       "### Result: OUTCOME_OK\n",
       "```\n",
       "(\"{'result': []}\\n\"\n",
       " \"{'result': []}\\n\"\n",
       " \"{'result': []}\\n\"\n",
       " \"{'result': []}\\n\"\n",
       " \"{'result': []}\\n\"\n",
       " \"{'result': [[13, 'New Customer 5', 3, 8], [12, 'New Customer 4', 4, 7], [11, \"\n",
       " \"'New Customer 3', 3, 6], [10, 'New Customer 2', 4, 5], [9, 'New Customer 1', \"\n",
       " '3, 4]]}\\n')\n",
       "```"
      ],
      "text/plain": [
       "<IPython.core.display.Markdown object>"
      ]
     },
     "metadata": {},
     "output_type": "display_data"
    },
    {
     "name": "stdout",
     "output_type": "stream",
     "text": [
      "\n"
     ]
    }
   ],
   "source": [
    "model = 'gemini-2.0-flash-exp'\n",
    "live_client = genai.Client(api_key=GOOGLE_API_KEY,\n",
    "                           http_options=types.HttpOptions(api_version='v1alpha'))\n",
    "\n",
    "execute_query_tool_def = types.FunctionDeclaration.from_callable(\n",
    "    client=live_client, callable=execute_query)\n",
    "\n",
    "sys_int = \"\"\"You are a database interface. Use the `execute_query` function\n",
    "to answer the users questions by looking up information in the database,\n",
    "running any necessary queries and responding to the user.\n",
    "You need to look up table schema using sqlite3 syntax SQL, then once an\n",
    "answer is found be sure to tell the user. If the user is requesting an\n",
    "action, you must also execute the actions.\n",
    "\"\"\"\n",
    "\n",
    "config = {\n",
    "    \"response_modalities\": [\"TEXT\"],\n",
    "    \"system_instruction\": {\"parts\": [{\"text\": sys_int}]},\n",
    "    \"tools\": [\n",
    "        {\"code_execution\": {}},\n",
    "        {\"function_declarations\": [execute_query_tool_def.to_json_dict()]},\n",
    "    ],\n",
    "}\n",
    "async with live_client.aio.live.connect(model=model, config=config) as session:\n",
    "  message = \"Please generate and insert 5 new rows in the orders table.\"\n",
    "  print(f\"> {message}\\n\")\n",
    "  await session.send(input=message, end_of_turn=True)\n",
    "  await handle_response(session, tool_impl=execute_query)"
   ]
  },
  {
   "cell_type": "code",
   "execution_count": 25,
   "metadata": {
    "execution": {
     "iopub.execute_input": "2025-04-04T09:33:03.931996Z",
     "iopub.status.busy": "2025-04-04T09:33:03.931593Z",
     "iopub.status.idle": "2025-04-04T09:33:09.859151Z",
     "shell.execute_reply": "2025-04-04T09:33:09.857858Z",
     "shell.execute_reply.started": "2025-04-04T09:33:03.931964Z"
    },
    "trusted": true
   },
   "outputs": [
    {
     "name": "stdout",
     "output_type": "stream",
     "text": [
      "> Can you figure out the number of orders that were made by each of the staff?\n",
      "\n"
     ]
    },
    {
     "data": {
      "text/markdown": [
       "### Code\n",
       "```\n",
       "sql = \"SELECT sql FROM sqlite_master WHERE type='table';\"\n",
       "print(default_api.execute_query(sql=sql))\n",
       "\n",
       "```"
      ],
      "text/plain": [
       "<IPython.core.display.Markdown object>"
      ]
     },
     "metadata": {},
     "output_type": "display_data"
    },
    {
     "data": {
      "text/markdown": [
       "### Tool call"
      ],
      "text/plain": [
       "<IPython.core.display.Markdown object>"
      ]
     },
     "metadata": {},
     "output_type": "display_data"
    },
    {
     "name": "stdout",
     "output_type": "stream",
     "text": [
      " - DB CALL: execute_query(SELECT sql FROM sqlite_master WHERE type='table';)\n"
     ]
    },
    {
     "data": {
      "text/markdown": [
       "### Result: OUTCOME_OK\n",
       "```\n",
       "(\"{'result': [['CREATE TABLE products (\\\\n  \\\\tproduct_id INTEGER PRIMARY KEY \"\n",
       " 'AUTOINCREMENT,\\\\n  \\\\tproduct_name VARCHAR(255) NOT NULL,\\\\n  \\\\tprice '\n",
       " \"DECIMAL(10, 2) NOT NULL\\\\n  )'], ['CREATE TABLE sqlite_sequence(name,seq)'], \"\n",
       " \"['CREATE TABLE staff (\\\\n  \\\\tstaff_id INTEGER PRIMARY KEY \"\n",
       " 'AUTOINCREMENT,\\\\n  \\\\tfirst_name VARCHAR(255) NOT NULL,\\\\n  \\\\tlast_name '\n",
       " \"VARCHAR(255) NOT NULL\\\\n  )'], ['CREATE TABLE orders (\\\\n  \\\\torder_id \"\n",
       " 'INTEGER PRIMARY KEY AUTOINCREMENT,\\\\n  \\\\tcustomer_name VARCHAR(255) NOT '\n",
       " 'NULL,\\\\n  \\\\tstaff_id INTEGER NOT NULL,\\\\n  \\\\tproduct_id INTEGER NOT '\n",
       " 'NULL,\\\\n  \\\\tFOREIGN KEY (staff_id) REFERENCES staff (staff_id),\\\\n  '\n",
       " \"\\\\tFOREIGN KEY (product_id) REFERENCES products (product_id)\\\\n  )']]}\\n\")\n",
       "```"
      ],
      "text/plain": [
       "<IPython.core.display.Markdown object>"
      ]
     },
     "metadata": {},
     "output_type": "display_data"
    },
    {
     "data": {
      "text/markdown": [
       "### Text"
      ],
      "text/plain": [
       "<IPython.core.display.Markdown object>"
      ]
     },
     "metadata": {},
     "output_type": "display_data"
    },
    {
     "name": "stdout",
     "output_type": "stream",
     "text": [
      "Okay, I see the `staff` and `orders` tables. I need to join them to count orders per staff member.\n"
     ]
    },
    {
     "data": {
      "text/markdown": [
       "### Code\n",
       "```\n",
       "sql = \"\"\"\n",
       "SELECT s.first_name, s.last_name, COUNT(o.order_id) AS number_of_orders\n",
       "FROM staff s\n",
       "JOIN orders o ON s.staff_id = o.staff_id\n",
       "GROUP BY s.staff_id\n",
       "\"\"\"\n",
       "print(default_api.execute_query(sql=sql))\n",
       "\n",
       "```"
      ],
      "text/plain": [
       "<IPython.core.display.Markdown object>"
      ]
     },
     "metadata": {},
     "output_type": "display_data"
    },
    {
     "data": {
      "text/markdown": [
       "### Tool call"
      ],
      "text/plain": [
       "<IPython.core.display.Markdown object>"
      ]
     },
     "metadata": {},
     "output_type": "display_data"
    },
    {
     "name": "stdout",
     "output_type": "stream",
     "text": [
      " - DB CALL: execute_query(\n",
      "SELECT s.first_name, s.last_name, COUNT(o.order_id) AS number_of_orders\n",
      "FROM staff s\n",
      "JOIN orders o ON s.staff_id = o.staff_id\n",
      "GROUP BY s.staff_id\n",
      ")\n"
     ]
    },
    {
     "data": {
      "text/markdown": [
       "### Result: OUTCOME_OK\n",
       "```\n",
       "(\"{'result': [['Alice', 'Smith', 4], ['Bob', 'Johnson', 3], ['Charlie', \"\n",
       " \"'Williams', 4]]}\\n\")\n",
       "```"
      ],
      "text/plain": [
       "<IPython.core.display.Markdown object>"
      ]
     },
     "metadata": {},
     "output_type": "display_data"
    },
    {
     "data": {
      "text/markdown": [
       "### Text"
      ],
      "text/plain": [
       "<IPython.core.display.Markdown object>"
      ]
     },
     "metadata": {},
     "output_type": "display_data"
    },
    {
     "name": "stdout",
     "output_type": "stream",
     "text": [
      "Okay, Alice Smith made 4 orders, Bob Johnson made 3 orders, and Charlie Williams made 4 orders.\n",
      "\n",
      "> Generate and run some code to plot this as a python seaborn pie chart\n",
      "\n"
     ]
    },
    {
     "data": {
      "text/markdown": [
       "### Code\n",
       "```\n",
       "import pandas as pd\n",
       "import matplotlib.pyplot as plt\n",
       "import seaborn as sns\n",
       "\n",
       "sql = \"\"\"\n",
       "SELECT s.first_name, s.last_name, COUNT(o.order_id) AS number_of_orders\n",
       "FROM staff s\n",
       "JOIN orders o ON s.staff_id = o.staff_id\n",
       "GROUP BY s.staff_id\n",
       "\"\"\"\n",
       "result = default_api.execute_query(sql=sql)\n",
       "\n",
       "if result and result['result']:\n",
       "    df = pd.DataFrame(result['result'], columns=['first_name', 'last_name', 'number_of_orders'])\n",
       "    df['staff_name'] = df['first_name'] + ' ' + df['last_name']\n",
       "\n",
       "    plt.figure(figsize=(8, 8))\n",
       "    plt.title('Number of Orders by Staff')\n",
       "    sns.set_theme(style=\"whitegrid\")\n",
       "    plt.pie(df['number_of_orders'], labels=df['staff_name'], autopct='%1.1f%%', startangle=140)\n",
       "\n",
       "    plt.show()\n",
       "else:\n",
       "    print(\"No data retrieved from database to plot.\")\n",
       "\n",
       "```"
      ],
      "text/plain": [
       "<IPython.core.display.Markdown object>"
      ]
     },
     "metadata": {},
     "output_type": "display_data"
    },
    {
     "data": {
      "text/markdown": [
       "### Tool call"
      ],
      "text/plain": [
       "<IPython.core.display.Markdown object>"
      ]
     },
     "metadata": {},
     "output_type": "display_data"
    },
    {
     "name": "stdout",
     "output_type": "stream",
     "text": [
      " - DB CALL: execute_query(\n",
      "SELECT s.first_name, s.last_name, COUNT(o.order_id) AS number_of_orders\n",
      "FROM staff s\n",
      "JOIN orders o ON s.staff_id = o.staff_id\n",
      "GROUP BY s.staff_id\n",
      ")\n"
     ]
    },
    {
     "data": {
      "image/png": "[encoded data removed]",
      "text/plain": [
       "<IPython.core.display.Image object>"
      ]
     },
     "metadata": {},
     "output_type": "display_data"
    },
    {
     "data": {
      "text/markdown": [
       "### Text"
      ],
      "text/plain": [
       "<IPython.core.display.Markdown object>"
      ]
     },
     "metadata": {},
     "output_type": "display_data"
    },
    {
     "name": "stdout",
     "output_type": "stream",
     "text": [
      "Okay, the pie chart visualizes the number of orders made by each staff member. Alice Smith and Charlie Williams both handled 36.4% of the orders each, while Bob Johnson handled 27.3% of the orders.\n",
      "\n"
     ]
    }
   ],
   "source": [
    "async with live_client.aio.live.connect(model=model, config=config) as session:\n",
    "\n",
    "  message = \"Can you figure out the number of orders that were made by each of the staff?\"\n",
    "\n",
    "  print(f\"> {message}\\n\")\n",
    "  await session.send(input=message, end_of_turn=True)\n",
    "  await handle_response(session, tool_impl=execute_query)\n",
    "\n",
    "  message = \"Generate and run some code to plot this as a python seaborn pie chart\"\n",
    "\n",
    "  print(f\"> {message}\\n\")\n",
    "  await session.send(input=message, end_of_turn=True)\n",
    "  await handle_response(session, tool_impl=execute_query)"
   ]
  },
  {
   "cell_type": "code",
   "execution_count": 33,
   "metadata": {
    "execution": {
     "iopub.execute_input": "2025-04-04T09:39:27.392180Z",
     "iopub.status.busy": "2025-04-04T09:39:27.391849Z",
     "iopub.status.idle": "2025-04-04T09:39:27.398462Z",
     "shell.execute_reply": "2025-04-04T09:39:27.397597Z",
     "shell.execute_reply.started": "2025-04-04T09:39:27.392154Z"
    },
    "trusted": true
   },
   "outputs": [
    {
     "name": "stdout",
     "output_type": "stream",
     "text": [
      "[('products',), ('sqlite_sequence',), ('staff',), ('orders',)]\n"
     ]
    }
   ],
   "source": [
    "import sqlite3\n",
    "conn = sqlite3.connect(\"sample.db\")\n",
    "cursor = conn.cursor()\n",
    "sql_query = \"SELECT name FROM sqlite_master WHERE type='table';\"\n",
    "cursor.execute(sql_query)\n",
    "print(cursor.fetchall())"
   ]
  },
  {
   "cell_type": "code",
   "execution_count": 34,
   "metadata": {
    "execution": {
     "iopub.execute_input": "2025-04-04T09:39:34.923208Z",
     "iopub.status.busy": "2025-04-04T09:39:34.922903Z",
     "iopub.status.idle": "2025-04-04T09:39:34.928321Z",
     "shell.execute_reply": "2025-04-04T09:39:34.927357Z",
     "shell.execute_reply.started": "2025-04-04T09:39:34.923184Z"
    },
    "trusted": true
   },
   "outputs": [
    {
     "name": "stdout",
     "output_type": "stream",
     "text": [
      "dict_keys(['__name__', '__doc__', '__package__', '__loader__', '__spec__', '__builtin__', '__builtins__', '_ih', '_oh', '_dh', 'In', 'Out', 'get_ipython', 'exit', 'quit', '_', '__', '___', '_i', '_ii', '_iii', '_i1', '_exit_code', 'genai', 'types', '_1', '_i2', 'UserSecretsClient', '_i3', 'GOOGLE_API_KEY', '_i4', 'retry', 'is_retriable', '_i5', '_i6', '_i7', '_i8', '_i9', '_9', '_i10', 'sqlite3', 'db_file', 'db_conn', '_i11', '_i12', 'list_tables', '_12', '_i13', 'describe_table', '_13', '_i14', 'execute_query', '_14', '_i15', 'db_tools', 'instruction', 'client', 'chat', '_i16', 'resp', '_i17', 'response', '_i18', '_i19', 'textwrap', 'print_chat_turns', '_i20', 'pformat', 'display', 'Image', 'Markdown', 'handle_response', '_i21', '_i22', 'model', 'live_client', 'execute_query_tool_def', 'sys_int', 'config', 'session', 'message', '_i23', '_i24', '_i25', '_i26', 'sql_query', '_i27', '_i28', 'conn', 'cursor', '_i29', '_i30', '_i31', '_i32', '_i33', '_i34'])\n"
     ]
    }
   ],
   "source": [
    "print(globals().keys())"
   ]
  },
  {
   "cell_type": "code",
   "execution_count": 36,
   "metadata": {
    "execution": {
     "iopub.execute_input": "2025-04-04T09:43:09.884299Z",
     "iopub.status.busy": "2025-04-04T09:43:09.883965Z",
     "iopub.status.idle": "2025-04-04T09:43:09.892009Z",
     "shell.execute_reply": "2025-04-04T09:43:09.890928Z",
     "shell.execute_reply.started": "2025-04-04T09:43:09.884273Z"
    },
    "trusted": true
   },
   "outputs": [
    {
     "name": "stdout",
     "output_type": "stream",
     "text": [
      "Staff Table:\n",
      "[(0, 'staff_id', 'INTEGER', 0, None, 1), (1, 'first_name', 'VARCHAR(255)', 1, None, 0), (2, 'last_name', 'VARCHAR(255)', 1, None, 0)]\n",
      "\n",
      "Orders Table:\n",
      "[(0, 'order_id', 'INTEGER', 0, None, 1), (1, 'customer_name', 'VARCHAR(255)', 1, None, 0), (2, 'staff_id', 'INTEGER', 1, None, 0), (3, 'product_id', 'INTEGER', 1, None, 0)]\n"
     ]
    }
   ],
   "source": [
    "# print(default_api.execute_query(sql=\"PRAGMA table_info(staff);\"))\n",
    "# print(default_api.execute_query(sql=\"PRAGMA table_info(orders);\"))\n",
    "\n",
    "import sqlite3\n",
    "\n",
    "conn = sqlite3.connect(\"sample.db\")\n",
    "cursor = conn.cursor()\n",
    "\n",
    "print(\"Staff Table:\")\n",
    "cursor.execute(\"PRAGMA table_info(staff);\")\n",
    "print(cursor.fetchall())\n",
    "\n",
    "print(\"\\nOrders Table:\")\n",
    "cursor.execute(\"PRAGMA table_info(orders);\")\n",
    "print(cursor.fetchall())\n",
    "\n",
    "conn.close()"
   ]
  },
  {
   "cell_type": "code",
   "execution_count": 49,
   "metadata": {
    "execution": {
     "iopub.execute_input": "2025-04-04T09:52:05.112594Z",
     "iopub.status.busy": "2025-04-04T09:52:05.112248Z",
     "iopub.status.idle": "2025-04-04T09:52:05.119601Z",
     "shell.execute_reply": "2025-04-04T09:52:05.118504Z",
     "shell.execute_reply.started": "2025-04-04T09:52:05.112567Z"
    },
    "trusted": true
   },
   "outputs": [
    {
     "name": "stdout",
     "output_type": "stream",
     "text": [
      "Alice Smith 2 - Orders: 2\n",
      "Bob Johnson 1 - Orders: 1\n"
     ]
    }
   ],
   "source": [
    "import sqlite3\n",
    "\n",
    "conn = sqlite3.connect(\"sample.db\")\n",
    "cursor = conn.cursor()\n",
    "\n",
    "sql_query = \"\"\"\n",
    "SELECT\n",
    "    s.first_name,\n",
    "    s.last_name,\n",
    "    COUNT(o.order_id) AS number_of_orders\n",
    "FROM\n",
    "    staff s\n",
    "JOIN\n",
    "    orders o ON s.staff_id = o.staff_id\n",
    "GROUP BY\n",
    "    s.staff_id;\n",
    "\"\"\"\n",
    "\n",
    "cursor.execute(sql_query)\n",
    "results = cursor.fetchall()\n",
    "\n",
    "for row in results:\n",
    "    print(f\"{row[0]} {row[1]} {row[2]} - Orders: {row[2]}\")\n",
    "\n",
    "conn.close()"
   ]
  },
  {
   "cell_type": "code",
   "execution_count": 48,
   "metadata": {
    "execution": {
     "iopub.execute_input": "2025-04-04T09:51:30.307720Z",
     "iopub.status.busy": "2025-04-04T09:51:30.307379Z",
     "iopub.status.idle": "2025-04-04T09:51:30.482607Z",
     "shell.execute_reply": "2025-04-04T09:51:30.481458Z",
     "shell.execute_reply.started": "2025-04-04T09:51:30.307694Z"
    },
    "trusted": true
   },
   "outputs": [
    {
     "data": {
      "text/plain": [
       "Text(0, 0.5, 'Staff Member')"
      ]
     },
     "execution_count": 48,
     "metadata": {},
     "output_type": "execute_result"
    },
    {
     "data": {
      "image/png": "[encoded data removed]",
      "text/plain": [
       "<Figure size 640x480 with 1 Axes>"
      ]
     },
     "metadata": {},
     "output_type": "display_data"
    }
   ],
   "source": [
    "import sqlite3\n",
    "import pandas as pd\n",
    "import seaborn as sns\n",
    "import matplotlib.pyplot as plt\n",
    "\n",
    "# Step 1: Run the SQL query and get results\n",
    "conn = sqlite3.connect(\"sample.db\")\n",
    "query = \"\"\"\n",
    "SELECT\n",
    "    s.first_name || ' ' || s.last_name AS staff_name,\n",
    "    COUNT(o.order_id) AS number_of_orders\n",
    "FROM\n",
    "    staff s\n",
    "JOIN\n",
    "    orders o ON s.staff_id = o.staff_id\n",
    "GROUP BY\n",
    "    s.staff_id;\n",
    "\"\"\"\n",
    "df = pd.read_sql_query(query, conn)\n",
    "conn.close()\n",
    "\n",
    "sns.barplot(x='number_of_orders', y='staff_name', data=df, palette='coolwarm')\n",
    "plt.title('Number of Orders per Staff Member')\n",
    "plt.xlabel('Number of Orders')\n",
    "plt.ylabel('Staff Member')\n"
   ]
  },
  {
   "cell_type": "code",
   "execution_count": null,
   "metadata": {
    "trusted": true
   },
   "outputs": [],
   "source": []
  }
 ],
 "metadata": {
  "kaggle": {
   "accelerator": "none",
   "dataSources": [],
   "dockerImageVersionId": 30918,
   "isGpuEnabled": false,
   "isInternetEnabled": true,
   "language": "python",
   "sourceType": "notebook"
  },
  "kernelspec": {
   "display_name": "Python 3",
   "language": "python",
   "name": "python3"
  },
  "language_info": {
   "codemirror_mode": {
    "name": "ipython",
    "version": 3
   },
   "file_extension": ".py",
   "mimetype": "text/x-python",
   "name": "python",
   "nbconvert_exporter": "python",
   "pygments_lexer": "ipython3",
   "version": "3.10.12"
  }
 },
 "nbformat": 4,
 "nbformat_minor": 4
}
